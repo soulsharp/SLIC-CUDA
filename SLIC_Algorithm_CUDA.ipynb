{
  "cells": [
    {
      "cell_type": "markdown",
      "metadata": {
        "id": "view-in-github",
        "colab_type": "text"
      },
      "source": [
        "<a href=\"https://colab.research.google.com/github/soulsharp/SuperpixelGen-using-SLIC-MT/blob/main/SLIC_Algorithm_CUDA.ipynb\" target=\"_parent\"><img src=\"https://colab.research.google.com/assets/colab-badge.svg\" alt=\"Open In Colab\"/></a>"
      ]
    },
    {
      "cell_type": "code",
      "source": [
        "!pip install pycuda"
      ],
      "metadata": {
        "id": "heQtSY3su-Wb",
        "colab": {
          "base_uri": "https://localhost:8080/"
        },
        "outputId": "f71a6b89-d8dc-4e81-a2e0-de00cd267f92"
      },
      "execution_count": 1,
      "outputs": [
        {
          "output_type": "stream",
          "name": "stdout",
          "text": [
            "Requirement already satisfied: pycuda in /usr/local/lib/python3.11/dist-packages (2025.1)\n",
            "Requirement already satisfied: pytools>=2011.2 in /usr/local/lib/python3.11/dist-packages (from pycuda) (2025.1.1)\n",
            "Requirement already satisfied: platformdirs>=2.2.0 in /usr/local/lib/python3.11/dist-packages (from pycuda) (4.3.6)\n",
            "Requirement already satisfied: mako in /usr/local/lib/python3.11/dist-packages (from pycuda) (1.3.9)\n",
            "Requirement already satisfied: typing-extensions>=4.5 in /usr/local/lib/python3.11/dist-packages (from pytools>=2011.2->pycuda) (4.12.2)\n",
            "Requirement already satisfied: MarkupSafe>=0.9.2 in /usr/local/lib/python3.11/dist-packages (from mako->pycuda) (3.0.2)\n"
          ]
        }
      ]
    },
    {
      "cell_type": "code",
      "execution_count": 2,
      "metadata": {
        "id": "-98tzmnG_fGY"
      },
      "outputs": [],
      "source": [
        "import math\n",
        "from skimage import io, color\n",
        "from skimage.transform import resize\n",
        "import numpy as np\n",
        "import time\n",
        "import pstats\n",
        "import cProfile\n",
        "import pycuda.driver as cuda\n",
        "import pycuda.autoinit\n",
        "import numpy as np\n",
        "from pycuda.compiler import SourceModule"
      ]
    },
    {
      "cell_type": "code",
      "execution_count": 4,
      "metadata": {
        "id": "-oVdgKQu_fGd"
      },
      "outputs": [],
      "source": [
        "def initialize_cluster_centers_np(k, img_h, img_w):\n",
        "  # Params needed for calculation of initial cluster center indices\n",
        "  r = int(math.sqrt(k))\n",
        "  c = k // r\n",
        "  ratio_width =  (img_w - 10) // c\n",
        "  ratio_height = (img_h - 10) // r\n",
        "  row_offset = 10\n",
        "  col_offset = 15\n",
        "\n",
        "  # Determination of superpixel indices\n",
        "  row_positions = ratio_height * np.arange(r, dtype=np.int32) + (row_offset * np.ones(r))\n",
        "  col_positions = ratio_width * np.arange(c, dtype=np.int32) + (col_offset * np.ones(c))\n",
        "  row_indices = np.broadcast_to(row_positions, (len(col_positions), len(row_positions)))\n",
        "  col_indices = np.broadcast_to(col_positions, (len(row_positions), len(col_positions)))\n",
        "  superpixel_indices = np.stack((row_indices, col_indices.T), axis=-1).reshape(-1, 2)\n",
        "\n",
        "  # If k is not a perfect square, some superpixels arent generated, so we randomly generate them to get k superpixels\n",
        "  num_generated = len(superpixel_indices)\n",
        "  if num_generated < k:\n",
        "        remaining = k - num_generated\n",
        "        y_indices = np.random.randint(20, img_h - 20, remaining)\n",
        "        x_indices = np.random.randint(20, img_w - 20, remaining)\n",
        "        leftover_superpixels = np.stack((y_indices, x_indices), axis=-1).reshape(-1, 2)\n",
        "        superpixel_indices = np.vstack((superpixel_indices, leftover_superpixels))\n",
        "\n",
        "  return superpixel_indices"
      ]
    },
    {
      "cell_type": "code",
      "execution_count": 5,
      "metadata": {
        "id": "asIMR7ww_fGe"
      },
      "outputs": [],
      "source": [
        "# calculates gradient considering all three color channels\n",
        "def calc_gradient_map(img, img_h, img_w):\n",
        "  grad_map = np.zeros((img_h , img_w), dtype=np.float32)\n",
        "  for i in range(3):\n",
        "    map = np.zeros((img_h + 2, img_w + 2), dtype=np.float32)\n",
        "    np.copyto(map[1:-1, 1:-1], img[i])\n",
        "    diff_map_x = map[:, 2:] - map[:, :-2]\n",
        "    grad_map_x = diff_map_x[0: - 2, :] + diff_map_x[2: , :]\n",
        "    grad_map = grad_map + grad_map_x\n",
        "\n",
        "  return grad_map"
      ]
    },
    {
      "cell_type": "code",
      "execution_count": 6,
      "metadata": {
        "id": "174JIxXa_fGe"
      },
      "outputs": [],
      "source": [
        "# Function which reassign the cluster center to the pixel having the lowest gradient\n",
        "def reassign_cluster_center_acc_to_grad_np(clusters,grad_map):\n",
        "  y_indices = []\n",
        "  x_indices = []\n",
        "\n",
        "  # Changes the cluster index to the one having min grad value in a 3 x 3 region around it\n",
        "  for cluster in clusters:\n",
        "    idx_y, idx_x = int(cluster[0]), int(cluster[1])\n",
        "    curr_window = grad_map[idx_y - 1 : idx_y + 2, idx_x - 1: idx_x + 2]\n",
        "    min_element = np.argmin(curr_window)\n",
        "    y_min = (min_element // 3) + idx_y\n",
        "    x_min = (min_element % 3) + idx_x\n",
        "\n",
        "    y_indices.append(y_min)\n",
        "    x_indices.append(x_min)\n",
        "\n",
        "  return y_indices, x_indices"
      ]
    },
    {
      "cell_type": "code",
      "execution_count": 11,
      "metadata": {
        "id": "cQigiHtr_fGh"
      },
      "outputs": [],
      "source": [
        "# function to convert LAB images back to RGB and save it\n",
        "def lab2rgb(path, lab_arr):\n",
        "    rgb_arr = color.lab2rgb(lab_arr)\n",
        "    rgb_arr = (rgb_arr * 255).astype(np.uint8)\n",
        "    io.imsave(path, rgb_arr)"
      ]
    },
    {
      "cell_type": "code",
      "execution_count": 13,
      "metadata": {
        "colab": {
          "base_uri": "https://localhost:8080/"
        },
        "id": "iJJWPoYV_fGi",
        "outputId": "458fc2bb-5799-4919-e8d2-b311a6199147"
      },
      "outputs": [
        {
          "output_type": "stream",
          "name": "stdout",
          "text": [
            "(4610, 3648, 3)\n",
            "(400, 400, 3)\n"
          ]
        }
      ],
      "source": [
        "# Reads the input RGB image\n",
        "rgb = io.imread(\"/content/joel-filipe-QwoNAhbmLLo-unsplash.jpg\")\n",
        "print(rgb.shape)\n",
        "\n",
        "# Resize images to (400 x 400) for processing\n",
        "img = resize(rgb, (400,400), anti_aliasing=True)\n",
        "print(img.shape)\n",
        "\n",
        "# convert RGB to LAB\n",
        "img = color.rgb2lab(img)\n",
        "image = np.transpose(img, (2, 0, 1))"
      ]
    },
    {
      "cell_type": "code",
      "source": [
        "kernel = SourceModule(\n",
        "'''\n",
        "  #include<cmath>\n",
        "  #include <cfloat>\n",
        "\n",
        "// Gets the vector sum of inputVector where each row is a separate vector and also an average(refer to code for exact form of avg)\n",
        "extern \"C\" __global__ void fusedMultiVectorSumAndAverage(float* inputVector, float* outputRow, int numRows, int numCols){\n",
        "\n",
        "  __shared__ float accumulateSum[1024];\n",
        "  int tid = threadIdx.x + blockDim.x * blockIdx.x;\n",
        "\n",
        "  // Memory bounds check\n",
        "  if(tid >= numCols) return;\n",
        "\n",
        "  // Number of threads needed for average\n",
        "  int numThreadsForAveraging = numCols / 6;\n",
        "  accumulateSum[tid] = 0.0f;\n",
        "\n",
        "  for(int i = 0; i < numRows; ++i){\n",
        "\n",
        "    // Accesses the start of a new row each iteration\n",
        "    int offset = numCols * i;\n",
        "\n",
        "    // Accumulates sum in the first row\n",
        "    accumulateSum[tid]  += inputVector[offset + tid];\n",
        "\n",
        "  }\n",
        "\n",
        "  __syncthreads();\n",
        "\n",
        "  int idx = tid * 6;\n",
        "\n",
        "  // Division takes place only for elements whose count is greater than 0\n",
        "  if(tid < numThreadsForAveraging && accumulateSum[idx + 5] > 0.0){\n",
        "    outputRow[idx + 0] = accumulateSum[idx + 0] / accumulateSum[idx + 5];\n",
        "    outputRow[idx + 1] = accumulateSum[idx + 1] / accumulateSum[idx + 5];\n",
        "    outputRow[idx + 2] = accumulateSum[idx + 2] / accumulateSum[idx + 5];\n",
        "    outputRow[idx + 3] = accumulateSum[idx + 3] / accumulateSum[idx + 5];\n",
        "    outputRow[idx + 4] = accumulateSum[idx + 4] / accumulateSum[idx + 5];\n",
        "    outputRow[idx + 5] = 0.0f;\n",
        "  }\n",
        "}\n",
        "\n",
        "extern \"C\" __global__ void assignClusterCenters(float* L, float* A, float* B, float* clusterPtr,\n",
        "                                  int* labelMap, float* output, float* dummyOutput, int* dummyScalar, int imageWidth, int imageHeight,\n",
        "                                  int numSuperpixels, int M, int S){\n",
        "\n",
        "\n",
        "\n",
        "  extern __shared__ float sharedMem[];\n",
        "\n",
        "  int tid = threadIdx.x;\n",
        "  int global_tid = tid + blockIdx.x * blockDim.x;\n",
        "\n",
        "  // Memory bounds check\n",
        "  if(global_tid >= imageWidth * imageHeight) return;\n",
        "  int Y = global_tid % imageWidth;\n",
        "  int X = global_tid / imageWidth;\n",
        "  int lastBlockId = (imageWidth * imageHeight + blockDim.x - 1) / blockDim.x;\n",
        "\n",
        "  // Total number of values to load in shared memory\n",
        "  int numValues = numSuperpixels * 6;\n",
        "\n",
        "  // clusterInfo is read-only, updateBuffer accumulates sums to aggregate them later in global memory\n",
        "  float* clusterInfo = sharedMem;\n",
        "  float* updateBuffer = sharedMem + numValues;\n",
        "\n",
        "  // Load clusterPtr to shared memory\n",
        "  if(blockIdx.x == lastBlockId - 1){\n",
        "    int numLegalThreads = imageWidth * imageHeight - (lastBlockId - 1) * blockDim.x;\n",
        "    for(int i = tid; i < numValues; i+=numLegalThreads){\n",
        "      clusterInfo[i] = clusterPtr[i];\n",
        "      updateBuffer[i] = 0.0;\n",
        "      dummyOutput[i] = clusterPtr[i];\n",
        "    }\n",
        "   }\n",
        "  else{\n",
        "    if (tid < numValues){\n",
        "      clusterInfo[tid] = clusterPtr[tid];\n",
        "      updateBuffer[tid] = 0.0;\n",
        "    }\n",
        "   }\n",
        "\n",
        "\n",
        "  __syncthreads();\n",
        "\n",
        "  float minDist = FLT_MAX;\n",
        "  int minClusterIdx = 0;\n",
        "  float eucDistFactor = static_cast<float>(M) / static_cast<float>(S);\n",
        "\n",
        "  // computes distance to relevant cluster centers and assign pixel to the nearest one\n",
        "  for(int i = 0; i < numSuperpixels; ++i){\n",
        "    float cL = clusterInfo[i * 6 + 0];\n",
        "    float cA = clusterInfo[i * 6 + 1];\n",
        "    float cB = clusterInfo[i * 6 + 2];\n",
        "    float cX = clusterInfo[i * 6 + 3];\n",
        "    float cY = clusterInfo[i * 6 + 4];\n",
        "\n",
        "    float absDistX = fabsf(cX - X);\n",
        "    float absDistY = fabsf(cY - Y);\n",
        "\n",
        "    // Only cluster centers in a 2S x 2S window around the pixel can influence it\n",
        "    if(absDistX <= 2 * S && absDistY <= 2 * S){\n",
        "\n",
        "      // Euclidean distance\n",
        "      float eucDist = sqrtf(absDistX * absDistX + absDistY * absDistY);\n",
        "\n",
        "      // LAB color distance\n",
        "      float labDist = sqrtf((cL - L[global_tid]) * (cL - L[global_tid]) +\n",
        "                      (cA - A[global_tid]) * (cA - A[global_tid]) +\n",
        "                      (cB - B[global_tid]) * (cB - B[global_tid]));\n",
        "\n",
        "      // Total distance\n",
        "      float totalDist = eucDistFactor * eucDist + labDist;\n",
        "\n",
        "      // Gets the nearest cluster's ID\n",
        "      if(totalDist < minDist){\n",
        "        minClusterIdx = i + 1;\n",
        "        minDist = totalDist;\n",
        "    }\n",
        " }\n",
        "\n",
        "}\n",
        "\n",
        "  // Assigns labelMap location corresponding to the tid, the min cluster ID\n",
        "  labelMap[global_tid] = minClusterIdx;\n",
        "\n",
        "  // -1 is needed because minClusterIdx goes from 1 -> numSuperpixels + 1\n",
        "  int minClusterIdxStartShared = (minClusterIdx - 1) * 6 ;\n",
        "\n",
        "  // Add values to the updateBuffer for averaging later\n",
        "  atomicAdd(&updateBuffer[minClusterIdxStartShared + 0], L[global_tid]);\n",
        "  atomicAdd(&updateBuffer[minClusterIdxStartShared + 1], A[global_tid]);\n",
        "  atomicAdd(&updateBuffer[minClusterIdxStartShared + 2], B[global_tid]);\n",
        "  atomicAdd(&updateBuffer[minClusterIdxStartShared + 3], X);\n",
        "  atomicAdd(&updateBuffer[minClusterIdxStartShared + 4], Y);\n",
        "  atomicAdd(&updateBuffer[minClusterIdxStartShared + 5], 1.0);\n",
        "\n",
        "  __syncthreads();\n",
        "\n",
        "  // Writes updateBuffer(shared memory) to the correct location at output buffer(global memory)\n",
        "  int outputRow = blockIdx.x;\n",
        "  int startIdxOutputBuffer = outputRow * numValues;\n",
        "\n",
        "  if(blockIdx.x == lastBlockId - 1){\n",
        "    int numLegalThreads = imageWidth * imageHeight - (lastBlockId - 1) * blockDim.x;\n",
        "\n",
        "    for(int i = tid; i < numValues; i+=numLegalThreads){\n",
        "      output[startIdxOutputBuffer + i] = updateBuffer[i];\n",
        "    }\n",
        "  }\n",
        "\n",
        "  else{\n",
        "\n",
        "    if (tid < numValues) {\n",
        "          output[startIdxOutputBuffer + tid] = updateBuffer[tid];\n",
        "      }\n",
        "  }\n",
        "\n",
        "}\n",
        "\n",
        "extern \"C\" __global__ void averageColorCluster(float* L, float* A, float* B, float* clusterPtr,\n",
        "                                  int* labelMap, int imageWidth, int imageHeight){\n",
        "\n",
        "  int tid = threadIdx.x;\n",
        "  int global_tid = tid + blockIdx.x * blockDim.x;\n",
        "\n",
        "  // Memory bounds check\n",
        "  if(global_tid >= imageWidth * imageHeight) return;\n",
        "\n",
        "  int label = labelMap[global_tid] - 1;\n",
        "\n",
        "  L[global_tid] = clusterPtr[label * 6 + 0];\n",
        "  A[global_tid] = clusterPtr[label * 6 + 1];\n",
        "  B[global_tid] = clusterPtr[label * 6 + 2];\n",
        "  }\n",
        "  ''')\n"
      ],
      "metadata": {
        "id": "83ylCqQbhKzv"
      },
      "execution_count": 14,
      "outputs": []
    },
    {
      "cell_type": "code",
      "source": [
        "image_height = img.shape[0]\n",
        "image_width = img.shape[1]\n",
        "N = image_width * image_height\n",
        "threadsPerBlock = 1024\n",
        "numBlocks = (N + threadsPerBlock - 1) // threadsPerBlock\n",
        "num_superpixels = 150\n",
        "num_rows_output = np.int32(numBlocks)\n",
        "num_cols_output = np.int32(num_superpixels * 6)\n",
        "M = 10\n",
        "S = int(math.sqrt(N /num_superpixels))\n",
        "print(S, numBlocks)"
      ],
      "metadata": {
        "id": "cw2rbUL5Igs5",
        "colab": {
          "base_uri": "https://localhost:8080/"
        },
        "outputId": "7ead5515-0f66-477f-b0cc-4b6edfd1a07b"
      },
      "execution_count": 16,
      "outputs": [
        {
          "output_type": "stream",
          "name": "stdout",
          "text": [
            "32 157\n"
          ]
        }
      ]
    },
    {
      "cell_type": "code",
      "source": [
        "# Gets the initial cluster center\n",
        "clusters = initialize_cluster_centers_np(num_superpixels, image_height, image_width)\n",
        "print(len(clusters))\n",
        "\n",
        "# Gets the gradient map\n",
        "grad_map = calc_gradient_map(image, image_height, image_width)\n",
        "\n",
        "# Gets the X, Y coordinates of the cluster centers after perturbing them based on gradient\n",
        "cols, rows = reassign_cluster_center_acc_to_grad_np(clusters, grad_map)\n",
        "\n",
        "L = image[0][rows, cols]\n",
        "A = image[1][rows, cols]\n",
        "B = image[2][rows, cols]\n",
        "counts = np.zeros_like(L ,np.float32)\n",
        "\n",
        "# Constructs superpixels in the form that is expected by assignClusterCenters kernel\n",
        "cluster_array = np.stack((L, A, B, rows, cols, counts), axis=-1).ravel()"
      ],
      "metadata": {
        "id": "w3PhxOBb-klk",
        "colab": {
          "base_uri": "https://localhost:8080/"
        },
        "outputId": "045b901f-f08f-45c5-e859-2a550dd53fb6"
      },
      "execution_count": 20,
      "outputs": [
        {
          "output_type": "stream",
          "name": "stdout",
          "text": [
            "150\n"
          ]
        }
      ]
    },
    {
      "cell_type": "code",
      "source": [
        "L_array = img[:, :, 0].ravel().astype(np.float32)\n",
        "A_array = img[:, :, 1].ravel().astype(np.float32)\n",
        "B_array = img[:, :, 2].ravel().astype(np.float32)\n",
        "label_array = np.zeros(image_height * image_width).astype(np.int32).ravel()\n",
        "output_array = np.zeros((num_rows_output, num_cols_output), dtype=np.float32).ravel()\n",
        "cluster_array = cluster_array.astype(np.float32)\n",
        "dummy_output = np.ones_like(cluster_array).astype(np.float32)\n",
        "dummy_scalar = np.zeros(1).astype(np.int32)\n",
        "print(dummy_output.shape)\n",
        "\n",
        "# Gets sizes needed for allocations on the GPU\n",
        "size_LAB = L_array.nbytes\n",
        "size_cluster_array = cluster_array.nbytes\n",
        "size_label_array = label_array.nbytes\n",
        "size_output_array = output_array.nbytes\n",
        "size_dummy = dummy_output.nbytes\n",
        "size_dummy_scalar = dummy_scalar.nbytes\n",
        "\n",
        "# Allocates arrays on the GPU\n",
        "d_l = cuda.mem_alloc(size_LAB)\n",
        "d_a = cuda.mem_alloc(size_LAB)\n",
        "d_b = cuda.mem_alloc(size_LAB)\n",
        "d_cluster = cuda.mem_alloc(size_cluster_array)\n",
        "d_label = cuda.mem_alloc(size_label_array)\n",
        "d_output = cuda.mem_alloc(size_output_array)\n",
        "d_dummy = cuda.mem_alloc(size_dummy)\n",
        "d_dummy_scalar = cuda.mem_alloc(size_dummy_scalar)\n",
        "\n",
        "# Copies arrays from CPU to GPU\n",
        "cuda.memcpy_htod(d_l, L_array)\n",
        "cuda.memcpy_htod(d_a, A_array)\n",
        "cuda.memcpy_htod(d_b, B_array)\n",
        "cuda.memcpy_htod(d_cluster, cluster_array)\n",
        "cuda.memcpy_htod(d_label, label_array)\n",
        "cuda.memcpy_htod(d_output, output_array)\n",
        "cuda.memcpy_htod(d_dummy, dummy_output)\n",
        "cuda.memcpy_htod(d_dummy_scalar, dummy_scalar)\n",
        "\n",
        "assign_cluster_fn = kernel.get_function(\"assignClusterCenters\")\n",
        "update_cluster_fn = kernel.get_function(\"fusedMultiVectorSumAndAverage\")\n",
        "average_color_fn = kernel.get_function(\"averageColorCluster\")\n",
        "\n",
        "size_smem = 2 * size_cluster_array\n",
        "print(size_smem, size_cluster_array, size_output_array)"
      ],
      "metadata": {
        "colab": {
          "base_uri": "https://localhost:8080/"
        },
        "id": "xYN1x5VFGHIE",
        "outputId": "12fafaf3-91e4-4435-e3d5-b0b0b5b84667"
      },
      "execution_count": 21,
      "outputs": [
        {
          "output_type": "stream",
          "name": "stdout",
          "text": [
            "(900,)\n",
            "7200 3600 565200\n"
          ]
        }
      ]
    },
    {
      "cell_type": "code",
      "source": [
        "start_time_assign_cluster_kernel = time.time()\n",
        "assign_cluster_fn(d_l, d_a, d_b, d_cluster, d_label, d_output, d_dummy, d_dummy_scalar,\n",
        "           np.int32(image_width), np.int32(image_height), np.int32(num_superpixels), np.int32(M), np.int32(S),\n",
        "           block=(threadsPerBlock, 1, 1),\n",
        "           grid = (numBlocks, 1), shared=size_smem)\n",
        "cuda.Context.synchronize()\n",
        "end_time_assign_cluster_kernel = time.time()\n",
        "print(f\"Kernel ran succesfully in {end_time_assign_cluster_kernel - start_time_assign_cluster_kernel}s\")"
      ],
      "metadata": {
        "colab": {
          "base_uri": "https://localhost:8080/"
        },
        "id": "i5MM_vBgGkgv",
        "outputId": "81884c8e-49cd-472c-efaa-7876a71f9758"
      },
      "execution_count": 22,
      "outputs": [
        {
          "output_type": "stream",
          "name": "stdout",
          "text": [
            "Kernel ran succesfully in 0.0012669563293457031s\n"
          ]
        }
      ]
    },
    {
      "cell_type": "code",
      "source": [
        "# Copies back to host\n",
        "cuda.memcpy_dtoh(output_array, d_output)\n",
        "cuda.memcpy_dtoh(label_array, d_label)\n",
        "cuda.memcpy_dtoh(dummy_output, d_dummy)\n",
        "cuda.memcpy_dtoh(dummy_scalar, d_dummy_scalar)"
      ],
      "metadata": {
        "id": "R7zoyXV_I1gf"
      },
      "execution_count": 23,
      "outputs": []
    },
    {
      "cell_type": "code",
      "source": [
        "num_rows = np.int32(numBlocks)\n",
        "num_cols = np.int32(num_superpixels * 6)\n",
        "updated_cluster_array = np.zeros(num_cols).astype(np.float32)\n",
        "d_input_vector = cuda.mem_alloc(size_output_array)\n",
        "d_cluster_mean = cuda.mem_alloc(size_cluster_array)\n"
      ],
      "metadata": {
        "id": "Vh2XTbOpWZdC"
      },
      "execution_count": 24,
      "outputs": []
    },
    {
      "cell_type": "code",
      "source": [
        "cuda.memcpy_htod(d_input_vector, output_array)\n",
        "cuda.memcpy_htod(d_cluster_mean, updated_cluster_array)"
      ],
      "metadata": {
        "id": "NDSGgpRxWLfC"
      },
      "execution_count": 25,
      "outputs": []
    },
    {
      "cell_type": "code",
      "source": [
        "start_time_update_kernel = time.time()\n",
        "update_cluster_fn(d_input_vector, d_cluster_mean, num_rows, num_cols,\n",
        "           block=(threadsPerBlock, 1, 1),\n",
        "           grid = (1, 1))\n",
        "cuda.Context.synchronize()\n",
        "end_time_update_kernel = time.time()"
      ],
      "metadata": {
        "id": "X71KwTlxU8ai"
      },
      "execution_count": 26,
      "outputs": []
    },
    {
      "cell_type": "code",
      "source": [
        "cuda.memcpy_dtoh(updated_cluster_array, d_cluster_mean)"
      ],
      "metadata": {
        "id": "HPgaDp6yZapb"
      },
      "execution_count": 27,
      "outputs": []
    },
    {
      "cell_type": "code",
      "source": [
        "for i in range(10):\n",
        "  assign_cluster_fn(d_l, d_a, d_b, d_cluster, d_label, d_output, d_dummy, d_dummy_scalar,\n",
        "           np.int32(image_width), np.int32(image_height), np.int32(num_superpixels), np.int32(M), np.int32(S),\n",
        "           block=(threadsPerBlock, 1, 1),\n",
        "           grid = (numBlocks, 1), shared=size_smem)\n",
        "\n",
        "\n",
        "  cuda.memcpy_dtoh(output_array, d_output)\n",
        "\n",
        "  update_cluster_fn(d_output, d_cluster, num_rows, num_cols,\n",
        "           block=(threadsPerBlock, 1, 1),\n",
        "           grid = (1, 1))"
      ],
      "metadata": {
        "id": "aOqPZxfHaR4a"
      },
      "execution_count": 28,
      "outputs": []
    },
    {
      "cell_type": "code",
      "source": [
        "average_color_fn(d_l, d_a, d_b, d_cluster, d_label, np.int32(image_height), np.int32(image_width),\n",
        "                 block=(threadsPerBlock, 1, 1),\n",
        "                 grid = (numBlocks, 1))\n",
        "cuda.Context.synchronize()"
      ],
      "metadata": {
        "id": "wlTzOgBGj5Fc"
      },
      "execution_count": 29,
      "outputs": []
    },
    {
      "cell_type": "code",
      "source": [
        "label_array_final = np.zeros_like(label_array).astype(np.int32)\n",
        "L = np.zeros((image_height, image_width)).astype(np.float32)\n",
        "A = np.zeros((image_height, image_width)).astype(np.float32)\n",
        "B = np.zeros((image_height, image_width)).astype(np.float32)"
      ],
      "metadata": {
        "id": "eMgvpa7ub8ha"
      },
      "execution_count": 30,
      "outputs": []
    },
    {
      "cell_type": "code",
      "source": [
        "cuda.memcpy_dtoh(label_array_final, d_label)\n",
        "cuda.memcpy_dtoh(cluster_array, d_cluster)\n",
        "cuda.memcpy_dtoh(L, d_l)\n",
        "cuda.memcpy_dtoh(A, d_a)\n",
        "cuda.memcpy_dtoh(B, d_b)"
      ],
      "metadata": {
        "id": "mkG71Omsh5-Z"
      },
      "execution_count": 32,
      "outputs": []
    },
    {
      "cell_type": "code",
      "source": [
        "lab_img = np.stack([L, A, B], axis=-1)"
      ],
      "metadata": {
        "id": "cayApwxekhsU"
      },
      "execution_count": 33,
      "outputs": []
    },
    {
      "cell_type": "code",
      "source": [
        "path = \"results.png\"\n",
        "lab2rgb(path, lab_img)"
      ],
      "metadata": {
        "id": "_oHTLwkqoQcy"
      },
      "execution_count": 54,
      "outputs": []
    }
  ],
  "metadata": {
    "kernelspec": {
      "display_name": "Python 3",
      "name": "python3"
    },
    "language_info": {
      "codemirror_mode": {
        "name": "ipython",
        "version": 3
      },
      "file_extension": ".py",
      "mimetype": "text/x-python",
      "name": "python",
      "nbconvert_exporter": "python",
      "pygments_lexer": "ipython3",
      "version": "3.6.7"
    },
    "colab": {
      "provenance": [],
      "gpuType": "T4",
      "include_colab_link": true
    },
    "accelerator": "GPU"
  },
  "nbformat": 4,
  "nbformat_minor": 0
}