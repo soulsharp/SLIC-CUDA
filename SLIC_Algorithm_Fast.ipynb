{
  "cells": [
    {
      "cell_type": "markdown",
      "metadata": {
        "id": "view-in-github",
        "colab_type": "text"
      },
      "source": [
        "<a href=\"https://colab.research.google.com/github/soulsharp/SuperpixelGen-using-SLIC-MT/blob/main/SLIC_Algorithm_Fast.ipynb\" target=\"_parent\"><img src=\"https://colab.research.google.com/assets/colab-badge.svg\" alt=\"Open In Colab\"/></a>"
      ]
    },
    {
      "cell_type": "code",
      "source": [
        "!pip install pycuda"
      ],
      "metadata": {
        "id": "heQtSY3su-Wb",
        "colab": {
          "base_uri": "https://localhost:8080/"
        },
        "outputId": "bee7ec9c-0567-4a5d-b2bb-15ee8076ad81"
      },
      "execution_count": null,
      "outputs": [
        {
          "output_type": "stream",
          "name": "stdout",
          "text": [
            "Collecting pycuda\n",
            "  Downloading pycuda-2025.1.tar.gz (1.7 MB)\n",
            "\u001b[?25l     \u001b[90m━━━━━━━━━━━━━━━━━━━━━━━━━━━━━━━━━━━━━━━━\u001b[0m \u001b[32m0.0/1.7 MB\u001b[0m \u001b[31m?\u001b[0m eta \u001b[36m-:--:--\u001b[0m\r\u001b[2K     \u001b[91m━━━━━━━━━━━━━━━━━━━━━━━━━━━━━━━━━━━━━━━\u001b[0m\u001b[91m╸\u001b[0m \u001b[32m1.7/1.7 MB\u001b[0m \u001b[31m57.9 MB/s\u001b[0m eta \u001b[36m0:00:01\u001b[0m\r\u001b[2K     \u001b[90m━━━━━━━━━━━━━━━━━━━━━━━━━━━━━━━━━━━━━━━━\u001b[0m \u001b[32m1.7/1.7 MB\u001b[0m \u001b[31m35.7 MB/s\u001b[0m eta \u001b[36m0:00:00\u001b[0m\n",
            "\u001b[?25h  Installing build dependencies ... \u001b[?25l\u001b[?25hdone\n",
            "  Getting requirements to build wheel ... \u001b[?25l\u001b[?25hdone\n",
            "  Preparing metadata (pyproject.toml) ... \u001b[?25l\u001b[?25hdone\n",
            "Collecting pytools>=2011.2 (from pycuda)\n",
            "  Downloading pytools-2025.1.1-py3-none-any.whl.metadata (3.0 kB)\n",
            "Requirement already satisfied: platformdirs>=2.2.0 in /usr/local/lib/python3.11/dist-packages (from pycuda) (4.3.6)\n",
            "Collecting mako (from pycuda)\n",
            "  Downloading Mako-1.3.9-py3-none-any.whl.metadata (2.9 kB)\n",
            "Requirement already satisfied: typing-extensions>=4.5 in /usr/local/lib/python3.11/dist-packages (from pytools>=2011.2->pycuda) (4.12.2)\n",
            "Requirement already satisfied: MarkupSafe>=0.9.2 in /usr/local/lib/python3.11/dist-packages (from mako->pycuda) (3.0.2)\n",
            "Downloading pytools-2025.1.1-py3-none-any.whl (92 kB)\n",
            "\u001b[2K   \u001b[90m━━━━━━━━━━━━━━━━━━━━━━━━━━━━━━━━━━━━━━━━\u001b[0m \u001b[32m92.8/92.8 kB\u001b[0m \u001b[31m11.1 MB/s\u001b[0m eta \u001b[36m0:00:00\u001b[0m\n",
            "\u001b[?25hDownloading Mako-1.3.9-py3-none-any.whl (78 kB)\n",
            "\u001b[2K   \u001b[90m━━━━━━━━━━━━━━━━━━━━━━━━━━━━━━━━━━━━━━━━\u001b[0m \u001b[32m78.5/78.5 kB\u001b[0m \u001b[31m9.2 MB/s\u001b[0m eta \u001b[36m0:00:00\u001b[0m\n",
            "\u001b[?25hBuilding wheels for collected packages: pycuda\n",
            "  Building wheel for pycuda (pyproject.toml) ... \u001b[?25l\u001b[?25hdone\n",
            "  Created wheel for pycuda: filename=pycuda-2025.1-cp311-cp311-linux_x86_64.whl size=660394 sha256=fcb7191c5609200f9b4a33a02d2be9386596ea1b57e69ab3bac65d1f9fcfa43f\n",
            "  Stored in directory: /root/.cache/pip/wheels/77/7e/6c/d2d1451ea6424cdc3d67b36c16fa7111eafdf2034bc3405666\n",
            "Successfully built pycuda\n",
            "Installing collected packages: pytools, mako, pycuda\n",
            "Successfully installed mako-1.3.9 pycuda-2025.1 pytools-2025.1.1\n"
          ]
        }
      ]
    },
    {
      "cell_type": "code",
      "execution_count": null,
      "metadata": {
        "id": "-98tzmnG_fGY"
      },
      "outputs": [],
      "source": [
        "import math\n",
        "from skimage import io, color\n",
        "from skimage.transform import resize\n",
        "import numpy as np\n",
        "import time\n",
        "import pstats\n",
        "import cProfile\n",
        "import pycuda.driver as cuda\n",
        "import pycuda.autoinit\n",
        "import numpy as np\n",
        "from pycuda.compiler import SourceModule"
      ]
    },
    {
      "cell_type": "code",
      "execution_count": null,
      "metadata": {
        "id": "Gr8JTXpW_fGc"
      },
      "outputs": [],
      "source": [
        "# function which returns an object of class SuperPixel\n",
        "def make_superPixel(h, w, img, superpixel_id):\n",
        "    return SuperPixels(h, w, img[h, w][0], img[h, w][1], img[h, w][2], superpixel_id)"
      ]
    },
    {
      "cell_type": "code",
      "execution_count": null,
      "metadata": {
        "id": "-oVdgKQu_fGd"
      },
      "outputs": [],
      "source": [
        "# To define the initial cluster centers distanced at S\n",
        "def initial_cluster_center(S, img, img_h, img_w):\n",
        "    clusters = []\n",
        "    h = S // 2\n",
        "    w = S // 2\n",
        "    while h < img_h:\n",
        "        while w < img_w:\n",
        "            num_superpixels = 0\n",
        "            clusters.append(make_superPixel(h, w, img, num_superpixels))\n",
        "            w += S\n",
        "        w = S // 2\n",
        "        h += S\n",
        "    return clusters"
      ]
    },
    {
      "cell_type": "code",
      "execution_count": null,
      "metadata": {
        "id": "asIMR7ww_fGe"
      },
      "outputs": [],
      "source": [
        "# function to calculate gradient at each pixel\n",
        "def calc_gradient(h, w, img, img_w, img_h):\n",
        "    if w + 1 >= img_w:\n",
        "        w = img_w - 2\n",
        "    if h + 1 >= img_h:\n",
        "        h = img_h - 2\n",
        "    grad = img[w + 1, h + 1][0] - img[w, h][0] + img[w + 1, h + 1][1] - img[w, h][1] + img[w + 1, h + 1][2] - img[w, h][2]\n",
        "    return grad"
      ]
    },
    {
      "cell_type": "code",
      "execution_count": null,
      "metadata": {
        "id": "174JIxXa_fGe"
      },
      "outputs": [],
      "source": [
        "# function which reassign the cluster center to the pixel having the lowest gradient\n",
        "def reassign_cluster_center_acc_to_grad(clusters, img):\n",
        "    for c in clusters:\n",
        "        cluster_gradient = calc_gradient(c.h, c.w, img, img_w, img_h)\n",
        "        for dh in range(-1, 2):\n",
        "            for dw in range(-1, 2):\n",
        "                H = c.h + dh\n",
        "                W = c.w + dw\n",
        "                new_gradient = calc_gradient(H, W, img, img_w, img_h)\n",
        "                if new_gradient < cluster_gradient:\n",
        "                    c.update(H, W, img[H,W][0], img[H,W][1], img[H,W][2])\n",
        "                    c_gradient = new_gradient\n"
      ]
    },
    {
      "cell_type": "code",
      "execution_count": null,
      "metadata": {
        "id": "TzZqiOWl_fGf"
      },
      "outputs": [],
      "source": [
        "# To-do : Major bottleneck, rewrite in CUDA\n",
        "# Ensure that acesses are vectorized/ parallel\n",
        "'''\n",
        "function to assign pixels to the nearest cluster using the Euclidean distance involving both color and spatial\n",
        "proximity.\n",
        "'''\n",
        "def assign_pixels_to_cluster(clusters, S, img, img_h, img_w, tag, dis):\n",
        "    for c in clusters:\n",
        "        for h in range(c.h - 2 * S, c.h + 2 * S):\n",
        "            if h < 0 or h >= img_h: continue\n",
        "            for w in range(c.w - 2 * S, c.w + 2 * S):\n",
        "                if w < 0 or w >= img_w: continue\n",
        "                l, a, b = img[h,w]\n",
        "                Dc = math.sqrt(math.pow(l - c.l, 2) + math.pow(a - c.a, 2) + math.pow(b - c.b, 2))\n",
        "                Ds = math.sqrt(math.pow(h - c.h, 2) + math.pow(w - c.w, 2))\n",
        "                D = math.sqrt(math.pow(Dc / m, 2) + math.pow(Ds / S, 2))\n",
        "                if D < dis[h,w]:\n",
        "                    if (h, w) not in tag:\n",
        "                        tag[(h, w)] = c\n",
        "                        c.pixels.append((h, w))\n",
        "                    else:\n",
        "                        tag[(h, w)].pixels.remove((h, w))\n",
        "                        tag[(h, w)] = c\n",
        "                        c.pixels.append((h, w))\n",
        "                    dis[h, w] = D"
      ]
    },
    {
      "cell_type": "code",
      "execution_count": null,
      "metadata": {
        "id": "TPX6lxFn_fGf"
      },
      "outputs": [],
      "source": [
        "# function to replace the cluster center with the mean of the pixels contained in the cluster\n",
        "def update_cluster_mean(clusters):\n",
        "    for c in clusters:\n",
        "        sum_h = sum_w = number = 0\n",
        "        #print(\"c.pixels\",c.pixels)\n",
        "        for p in c.pixels:\n",
        "            sum_h += p[0]\n",
        "            sum_w += p[1]\n",
        "            number += 1\n",
        "            H = sum_h // number\n",
        "            W = sum_w // number\n",
        "            c.update(H, W,img[H, W][0], img[H, W][1], img[H, W][2])"
      ]
    },
    {
      "cell_type": "code",
      "execution_count": null,
      "metadata": {
        "id": "94YkCRyA_fGg"
      },
      "outputs": [],
      "source": [
        "# replace the color of each pixel in a cluster by the color of the cluster's center\n",
        "def avg_color_cluster(img, name, clusters):\n",
        "    image = np.copy(img)\n",
        "    for c in clusters:\n",
        "        for p in c.pixels:\n",
        "            image[p[0],p[1]][0] = c.l\n",
        "            image[p[0],p[1]][1] = c.a\n",
        "            image[p[0],p[1]][2] = c.b\n",
        "        # To change the color of cluster center to Black\n",
        "        # image[c.h, c.w][0] = 0\n",
        "        # image[c.h, c.w][1] = 0\n",
        "        # image[c.h, c.w][2] = 0\n",
        "    lab2rgb(name, image)"
      ]
    },
    {
      "cell_type": "code",
      "execution_count": null,
      "metadata": {
        "id": "10-57e3y_fGg"
      },
      "outputs": [],
      "source": [
        "# function for the Simple Linear Iterative Clustering\n",
        "def slic(S, img, img_h, img_w, clusters, tag, dis):\n",
        "    clusters = initial_cluster_center(S, img, img_h, img_w)\n",
        "    reassign_cluster_center_acc_to_grad(clusters, img)\n",
        "\n",
        "    # Runs SLIC for 10 iterations\n",
        "    for i in range(10):\n",
        "        assign_pixels_to_cluster(clusters, S, img, img_h, img_w, tag, dis)\n",
        "        update_cluster_mean(clusters)\n",
        "\n",
        "        # Saves image after 10 iterations\n",
        "        if i == 9 :\n",
        "            name = 'out_m{m}_k{k}.png'.format(loop=i, m=m, k=k)\n",
        "            avg_color_cluster(img, name, clusters)\n",
        "    return clusters"
      ]
    },
    {
      "cell_type": "code",
      "execution_count": null,
      "metadata": {
        "id": "cQigiHtr_fGh"
      },
      "outputs": [],
      "source": [
        "# function to convert LAB images back to RGB and save it\n",
        "def lab2rgb(path, lab_arr):\n",
        "    rgb_arr = color.lab2rgb(lab_arr)\n",
        "    rgb_arr = (rgb_arr * 255).astype(np.uint8)\n",
        "    io.imsave(path, rgb_arr)"
      ]
    },
    {
      "cell_type": "code",
      "execution_count": null,
      "metadata": {
        "id": "JTSPwDQI_fGi"
      },
      "outputs": [],
      "source": [
        "# Todo - Assign a cluster id to each superpixel, which makes it easy to assign centers later\n",
        "# A class to initialize the super pixels, of the form - [h,w,l,a,b].\n",
        "class SuperPixels(object):\n",
        "\n",
        "    def __init__(self, h, w, l=0, a=0, b=0, num_pixels=0):\n",
        "        self.update(h, w, l, a, b, id)\n",
        "        self.pixels = []\n",
        "\n",
        "    def update(self, h, w, l, a, b, num_pixels):\n",
        "        self.h = h\n",
        "        self.w = w\n",
        "        self.l = l\n",
        "        self.a = a\n",
        "        self.b = b\n",
        "        self.num_pixels = num_pixels"
      ]
    },
    {
      "cell_type": "code",
      "source": [
        "# Contains all kernels to make SLIC faster\n",
        "cuda_kernel=\"\"\"\n",
        "#include <cfloat>\n",
        "\n",
        "// Define a struct for all cluster centers\n",
        "struct __align__(8) clusterCenter{\n",
        "  float l;\n",
        "  float a;\n",
        "  float b;\n",
        "  float x;\n",
        "  float y;\n",
        "  float numPixels;\n",
        "};\n",
        "\n",
        "// This kernel calculates the distance between a pixel and cluster centers and\n",
        "// assigns them an ID based on the nearest cluster\n",
        "__global__ void assignClusterCenters(float* L, float* A, float* B, clusterCenter* clusterPtr,\n",
        "                                    int* labelMap, int imageWidth, int imageHeight,\n",
        "                                    int numSuperpixels, int M, int S){\n",
        "\n",
        "  extern __shared__ float clusterInfo[];\n",
        "\n",
        "  int tid = threadIdx.x;\n",
        "  int global_tid = tid + blockIdx.x * blockDim.x;\n",
        "\n",
        "  // Memory bounds check\n",
        "  if (global_tid >= imageWidth * imageHeight) return;\n",
        "\n",
        "  // Total number of values to load\n",
        "  int numValues = numSuperpixels * 6;\n",
        "\n",
        "  // Workload per thread\n",
        "  int elementsPerThread = (numValues + blockDim.x - 1) / blockDim.x;\n",
        "  int startIdx = tid * elementsPerThread;\n",
        "\n",
        "  // Loads X elements per thread into shared memory\n",
        "  for (int i = 0; i < elementsPerThread; ++i) {\n",
        "    int idx = startIdx + i;\n",
        "    if (idx < numValues) {\n",
        "      clusterInfo[idx] = reinterpret_cast<float*>(clusterPtr)[idx];\n",
        "    }\n",
        "  }\n",
        "\n",
        "  __syncthreads();\n",
        "\n",
        "  // Initializes utility pointers\n",
        "  float* firstHalfPtr = clusterInfo;\n",
        "  float* secondHalfPtr = &clusterInfo[numSuperpixels];\n",
        "  float* clusterInfoPtr;\n",
        "  float* updateBufferPtr;\n",
        "\n",
        "  // Slic Algorithm operates for 10 iterations for convergence\n",
        "  // For even cycles i.e. 0, 2, 4,...  the firstHalf serves as the clusterInfo, and the second half acts as the buffer to compute cluster centers for the next pass\n",
        "  for(int k = 0; k < 10; ++k){\n",
        "    int X = global_tid % imageWidth;\n",
        "    int Y = global_tid / imageWidth;\n",
        "    int minClusterIdx = 0;\n",
        "    float minDist = FLT_MAX;\n",
        "\n",
        "    if(k % 2 == 0){\n",
        "      clusterInfoPtr = firstHalfPtr;\n",
        "      updateBufferPtr = secondHalfPtr;\n",
        "\n",
        "      }\n",
        "    else{\n",
        "      clusterInfoPtr = secondHalfPtr;\n",
        "      updateBufferPtr = firstHalfPtr;\n",
        "    }\n",
        "\n",
        "    // Sets update buffer ptr to 0 because its used to compute the new cluster centers\n",
        "    for (int i = 0; i < elementsPerThread; ++i){\n",
        "    int idx = startIdx + i;\n",
        "    if (idx < numValues) {\n",
        "      updateBufferPtr[idx] = 0.0f;\n",
        "    }\n",
        "  }\n",
        "\n",
        "    __syncthreads();\n",
        "\n",
        "\n",
        "    // computes distance to all cluster centers and assign pixel to the nearest one\n",
        "    for(int i = 0; i < numSuperpixels; ++i){\n",
        "      float cL = clusterInfoPtr[i * 6 + 0];\n",
        "      float cA = clusterInfoPtr[i * 6 + 1];\n",
        "      float cB = clusterInfoPtr[i * 6 + 2];\n",
        "      float cX = clusterInfoPtr[i * 6 + 3];\n",
        "      float cY = clusterInfoPtr[i * 6 + 4];\n",
        "\n",
        "      // Euclidean distance\n",
        "      float eucDist = sqrtf((cX - X) * (cX - X) + (cY - Y) * (cY - Y));\n",
        "\n",
        "      // LAB color distance\n",
        "      float labDist = sqrtf((cL - L[global_tid]) * (cL - L[global_tid]) +\n",
        "                      (cA - A[global_tid]) * (cA - A[global_tid]) +\n",
        "                      (cB - B[global_tid]) * (cB - B[global_tid]));\n",
        "\n",
        "      // Total distance\n",
        "      float totalDist = sqrtf((labDist / M) * (labDist / M) + (eucDist / S) * (eucDist / S));\n",
        "\n",
        "      // Gets the nearest cluster's ID\n",
        "      if(totalDist < minDist){\n",
        "        minClusterIdx = i;\n",
        "        minDist = totalDist;\n",
        "    }\n",
        "  }\n",
        "\n",
        "    // Assigns labelMap location corresponding to the tid, the min cluster ID\n",
        "    labelMap[global_tid] = minClusterIdx;\n",
        "    int minClusterIdxStart = minClusterIdx * 6;\n",
        "\n",
        "    // Add values to the updateBuffer for averaging later\n",
        "    atomicAdd(&updateBufferPtr[minClusterIdxStart + 0], L[global_tid]);\n",
        "    atomicAdd(&updateBufferPtr[minClusterIdxStart + 1], A[global_tid]);\n",
        "    atomicAdd(&updateBufferPtr[minClusterIdxStart + 2], B[global_tid]);\n",
        "    atomicAdd(&updateBufferPtr[minClusterIdxStart + 3], X);\n",
        "    atomicAdd(&updateBufferPtr[minClusterIdxStart + 4], Y);\n",
        "    atomicAdd(&updateBufferPtr[minClusterIdxStart + 5], 1.0f);\n",
        "\n",
        "    __syncthreads();\n",
        "\n",
        "    // Update the cluster center vals when all threads are done updating their respective cluster center vals\n",
        "    if(global_tid < numSuperpixels){\n",
        "      if (updateBufferPtr[global_tid * 6 + 5] > 0) {\n",
        "        updateBufferPtr[global_tid * 6 + 0] /= updateBufferPtr[global_tid * 6 + 5];\n",
        "        updateBufferPtr[global_tid * 6 + 1] /= updateBufferPtr[global_tid * 6 + 5];\n",
        "        updateBufferPtr[global_tid * 6 + 2] /= updateBufferPtr[global_tid * 6 + 5];\n",
        "        updateBufferPtr[global_tid * 6 + 3] /= updateBufferPtr[global_tid * 6 + 5];\n",
        "        updateBufferPtr[global_tid * 6 + 4] /= updateBufferPtr[global_tid * 6 + 5];\n",
        "      }\n",
        "      updateBufferPtr[global_tid * 6 + 5] = 0.0;\n",
        "    }\n",
        "\n",
        "}\n",
        "\n",
        "\n",
        "}\n",
        "\n",
        "\"\"\"\n",
        "\n"
      ],
      "metadata": {
        "id": "83ylCqQbhKzv"
      },
      "execution_count": null,
      "outputs": []
    },
    {
      "cell_type": "code",
      "execution_count": null,
      "metadata": {
        "colab": {
          "base_uri": "https://localhost:8080/"
        },
        "id": "iJJWPoYV_fGi",
        "outputId": "f271d160-f123-4df7-f72d-eb3efd0c2618"
      },
      "outputs": [
        {
          "output_type": "stream",
          "name": "stdout",
          "text": [
            "(4610, 3648, 3)\n",
            "(400, 400, 3)\n"
          ]
        }
      ],
      "source": [
        "# Reads the input RGB image\n",
        "rgb = io.imread(\"/content/joel-filipe-QwoNAhbmLLo-unsplash.jpg\")\n",
        "print(rgb.shape)\n",
        "\n",
        "# Resize images to (400 x 400) for processing\n",
        "img = resize(rgb, (400,400), anti_aliasing=True)\n",
        "print(img.shape)\n",
        "\n",
        "# convert RGB to LAB\n",
        "img = color.rgb2lab(img)\n",
        "L, A, B = img[:, :, 0].ravel(), img[:, :, 1].ravel(), img[:, :, 2].ravel()\n",
        "\n",
        "k = 150   # Number of Super pixels\n",
        "M = 20    # Constant for normalizing the color proximity, range of m = [1,40]\n",
        "\n",
        "img_h = img.shape[0] # Image Height\n",
        "img_w = img.shape[1] # Image Width\n",
        "\n",
        "N = img_h * img_w  # Total number of pixels in the image\n",
        "S = int(math.sqrt(N /k)) # average size of each superpixel\n",
        "\n",
        "# clusters = []\n",
        "# tag = {}\n",
        "# # initialize the distance between pixels and cluster center as infinity\n",
        "# dis = np.full((img_h, img_w), np.inf)"
      ]
    },
    {
      "cell_type": "code",
      "source": [
        "L.size, L.itemsize"
      ],
      "metadata": {
        "colab": {
          "base_uri": "https://localhost:8080/"
        },
        "id": "kJDRx8KSA7y6",
        "outputId": "fa20da2a-ba53-4e89-bafc-c5f8647eb51f"
      },
      "execution_count": null,
      "outputs": [
        {
          "output_type": "execute_result",
          "data": {
            "text/plain": [
              "(160000, 8)"
            ]
          },
          "metadata": {},
          "execution_count": 30
        }
      ]
    },
    {
      "cell_type": "code",
      "source": [
        "# Gets the initial cluster center\n",
        "clusters = initial_cluster_center(S, img, img_h, img_w)\n",
        "\n",
        "# Defines a np dtype that contains all important info abt the cluster centers\n",
        "struct_dtype = np.dtype([\n",
        "  (\"l\", np.float32),\n",
        "  (\"a\", np.float32),\n",
        "  (\"b\", np.float32),\n",
        "  (\"x\", np.float32),\n",
        "  (\"y\", np.float32),\n",
        "  (\"numPixels\", np.float32),\n",
        "], align=True)\n",
        "\n",
        "cluster_array = np.array([(cluster.l, cluster.a, cluster.b, cluster.h, cluster.w, 0.0) for cluster in clusters], dtype=struct_dtype)"
      ],
      "metadata": {
        "id": "w3PhxOBb-klk"
      },
      "execution_count": null,
      "outputs": []
    },
    {
      "cell_type": "code",
      "source": [
        "print(cluster_array)"
      ],
      "metadata": {
        "colab": {
          "base_uri": "https://localhost:8080/"
        },
        "collapsed": true,
        "id": "6llwOl8l_XKk",
        "outputId": "b6322dd2-a8ec-43b1-a4b6-95896b9aa41f"
      },
      "execution_count": null,
      "outputs": [
        {
          "output_type": "stream",
          "name": "stdout",
          "text": [
            "[(19.13922  ,  7.8905888, -13.831687  ,  16.,  16., 0.)\n",
            " ( 5.660978 ,  7.3664594,  -8.591886  ,  16.,  48., 0.)\n",
            " (37.6379   ,  6.8000817, -15.309642  ,  16.,  80., 0.)\n",
            " (54.79511  ,  2.96065  ,  -7.700683  ,  16., 112., 0.)\n",
            " (12.899702 , 11.21094  ,  -7.313361  ,  16., 144., 0.)\n",
            " ( 7.657459 , 11.305485 ,  -7.8867354 ,  16., 176., 0.)\n",
            " ( 3.9409726,  6.802667 ,  -2.5436146 ,  16., 208., 0.)\n",
            " ( 4.7125497,  8.720329 ,  -8.256036  ,  16., 240., 0.)\n",
            " (16.818556 , 15.734594 ,  -8.051471  ,  16., 272., 0.)\n",
            " (10.187591 , 10.393866 ,  -8.2598295 ,  16., 304., 0.)\n",
            " (32.07077  , 19.167753 ,   3.1412327 ,  16., 336., 0.)\n",
            " ( 3.922091 ,  5.9159417,  -5.0802226 ,  16., 368., 0.)\n",
            " ( 5.016655 ,  4.851368 ,  -9.937559  ,  48.,  16., 0.)\n",
            " ( 3.5466824,  3.0492494,  -6.3172865 ,  48.,  48., 0.)\n",
            " ( 2.245238 ,  2.1932013,  -4.59636   ,  48.,  80., 0.)\n",
            " (13.932082 ,  8.576625 , -11.408364  ,  48., 112., 0.)\n",
            " (33.64469  ,  8.128026 ,  -8.934831  ,  48., 144., 0.)\n",
            " (12.561979 , 10.192486 , -12.1080675 ,  48., 176., 0.)\n",
            " ( 7.5522995, 12.029436 ,  -7.5363245 ,  48., 208., 0.)\n",
            " ( 1.8195142,  2.5528886,  -1.9301705 ,  48., 240., 0.)\n",
            " ( 2.1028497,  5.0793986,  -4.927554  ,  48., 272., 0.)\n",
            " ( 2.0870023,  2.9700177,  -2.572658  ,  48., 304., 0.)\n",
            " ( 1.3728282,  2.0071163,  -2.1401541 ,  48., 336., 0.)\n",
            " ( 1.8366933,  2.3014479,  -2.1233063 ,  48., 368., 0.)\n",
            " ( 5.644201 ,  5.119937 , -10.029769  ,  80.,  16., 0.)\n",
            " ( 4.829639 ,  5.0345006, -10.271532  ,  80.,  48., 0.)\n",
            " ( 4.8172536,  4.818421 ,  -7.254443  ,  80.,  80., 0.)\n",
            " ( 8.023564 ,  5.683618 , -11.280023  ,  80., 112., 0.)\n",
            " (40.601032 , -1.3624052,  -9.38297   ,  80., 144., 0.)\n",
            " ( 8.168406 , 12.546763 ,  -3.4134624 ,  80., 176., 0.)\n",
            " ( 2.043826 ,  4.330903 ,  -2.1119769 ,  80., 208., 0.)\n",
            " ( 2.055571 ,  4.6447735,  -2.5059597 ,  80., 240., 0.)\n",
            " ( 1.4531058,  2.1718569,  -1.8645256 ,  80., 272., 0.)\n",
            " (14.691918 , 20.042555 ,  -2.741828  ,  80., 304., 0.)\n",
            " ( 0.8084874,  0.8841658,  -1.6884577 ,  80., 336., 0.)\n",
            " ( 0.867631 ,  0.9568229,  -1.799841  ,  80., 368., 0.)\n",
            " ( 5.19359  ,  6.251594 ,  -8.279816  , 112.,  16., 0.)\n",
            " ( 2.6072166,  2.591103 ,  -5.5398316 , 112.,  48., 0.)\n",
            " ( 6.7229986,  6.004951 ,  -9.568031  , 112.,  80., 0.)\n",
            " ( 5.3302364,  4.60506  ,  -6.5771036 , 112., 112., 0.)\n",
            " (42.743904 ,  1.1195287,  -4.0437675 , 112., 144., 0.)\n",
            " (32.011497 ,  5.4293766,   7.1801853 , 112., 176., 0.)\n",
            " (50.994778 , -0.2517553,   4.698647  , 112., 208., 0.)\n",
            " ( 7.577355 , 11.11707  ,   2.372861  , 112., 240., 0.)\n",
            " ( 2.7893867,  4.5650454,  -2.1030536 , 112., 272., 0.)\n",
            " ( 4.4143744,  8.498159 ,  -8.194703  , 112., 304., 0.)\n",
            " (14.261405 , 15.475623 ,  -7.3843975 , 112., 336., 0.)\n",
            " ( 1.6295556,  2.2586915,  -1.8740283 , 112., 368., 0.)\n",
            " ( 2.109367 ,  5.061139 ,  -1.6118258 , 144.,  16., 0.)\n",
            " (32.58004  ,  8.45508  ,  -6.7444496 , 144.,  48., 0.)\n",
            " (24.809265 , 12.77072  ,  -3.285981  , 144.,  80., 0.)\n",
            " (34.73926  ,  8.991548 ,   3.1139467 , 144., 112., 0.)\n",
            " (91.00007  , -1.4235941,   5.6500816 , 144., 144., 0.)\n",
            " (63.07543  , 18.795237 ,  26.16717   , 144., 176., 0.)\n",
            " (80.80957  ,  5.3845606,  14.225717  , 144., 208., 0.)\n",
            " (61.058002 , 16.881212 ,  27.311367  , 144., 240., 0.)\n",
            " (33.800858 ,  8.829508 ,  16.303299  , 144., 272., 0.)\n",
            " ( 9.942956 , 17.545328 ,  -1.4620833 , 144., 304., 0.)\n",
            " ( 2.157492 ,  4.27431  ,  -2.005017  , 144., 336., 0.)\n",
            " ( 3.6213717,  6.041676 ,  -2.4283438 , 144., 368., 0.)\n",
            " ( 7.0306087, 12.263655 ,  -3.6934752 , 176.,  16., 0.)\n",
            " (20.428192 , 14.923019 ,  -3.7648346 , 176.,  48., 0.)\n",
            " ( 8.642214 , 10.676088 ,   0.86433095, 176.,  80., 0.)\n",
            " ( 9.728213 , 11.223367 ,  -1.3887678 , 176., 112., 0.)\n",
            " (54.542435 , 20.721321 ,  25.763588  , 176., 144., 0.)\n",
            " (48.82933  , 27.066345 ,  50.61774   , 176., 176., 0.)\n",
            " (41.947533 , 27.33175  ,  49.19963   , 176., 208., 0.)\n",
            " (72.00173  , 25.166708 ,  51.509254  , 176., 240., 0.)\n",
            " (55.18825  , 15.196233 ,  19.906008  , 176., 272., 0.)\n",
            " (49.43604  ,  5.698807 ,  12.362935  , 176., 304., 0.)\n",
            " ( 5.1355014, 11.00493  ,   2.337093  , 176., 336., 0.)\n",
            " ( 6.1185994,  8.289627 ,  -3.5764048 , 176., 368., 0.)\n",
            " (29.194962 , 17.992174 ,  -7.566941  , 208.,  16., 0.)\n",
            " (17.246584 , 17.459438 ,  -3.8374817 , 208.,  48., 0.)\n",
            " (17.986813 ,  8.381896 ,  -4.2207313 , 208.,  80., 0.)\n",
            " (30.797455 , 14.445578 ,   8.761605  , 208., 112., 0.)\n",
            " (56.84496  , 23.673134 ,  44.60046   , 208., 144., 0.)\n",
            " (67.55535  , 28.064741 ,  64.98478   , 208., 176., 0.)\n",
            " (67.44252  , 35.07847  ,  61.220955  , 208., 208., 0.)\n",
            " (65.4606   , 44.64431  ,  72.57874   , 208., 240., 0.)\n",
            " (68.391815 , 23.006788 ,  25.275599  , 208., 272., 0.)\n",
            " (34.7812   , 16.492353 ,  10.356491  , 208., 304., 0.)\n",
            " (60.282993 , 39.41847  ,  32.63175   , 208., 336., 0.)\n",
            " (25.60611  , 10.1412115,  -2.99996   , 208., 368., 0.)\n",
            " ( 2.6670685,  2.5021956,  -2.0318253 , 240.,  16., 0.)\n",
            " (16.906956 , 10.783052 ,  -8.762471  , 240.,  48., 0.)\n",
            " (13.785485 , 11.200148 ,  -3.6890614 , 240.,  80., 0.)\n",
            " (17.212849 , 14.614263 ,  -3.3705454 , 240., 112., 0.)\n",
            " ( 9.86776  , 10.0209875,  -1.7663097 , 240., 144., 0.)\n",
            " (19.212893 , 13.765779 ,  10.998551  , 240., 176., 0.)\n",
            " (32.768818 , 23.028849 ,  39.795994  , 240., 208., 0.)\n",
            " (72.392845 , 25.55623  ,  38.049244  , 240., 240., 0.)\n",
            " (64.44043  , 27.423494 ,  59.114944  , 240., 272., 0.)\n",
            " (51.991432 , 15.348189 ,  17.62085   , 240., 304., 0.)\n",
            " (84.603294 ,  4.666736 ,  12.378123  , 240., 336., 0.)\n",
            " (43.052963 , 10.303658 ,   5.856148  , 240., 368., 0.)\n",
            " ( 2.0132747,  3.0527158,  -2.045238  , 272.,  16., 0.)\n",
            " ( 7.7976685, 11.3076105,  -8.377583  , 272.,  48., 0.)\n",
            " ( 5.6942086,  9.858639 ,  -3.5843263 , 272.,  80., 0.)\n",
            " ( 4.4238467,  9.292428 ,  -1.1336726 , 272., 112., 0.)\n",
            " (45.23269  ,  7.6031547,  -3.3231797 , 272., 144., 0.)\n",
            " (20.259727 , 13.109981 ,   7.1881075 , 272., 176., 0.)\n",
            " (50.858646 , 19.807611 ,  51.41171   , 272., 208., 0.)\n",
            " (20.298426 , 10.664537 ,  23.552944  , 272., 240., 0.)\n",
            " (54.610928 , 25.105242 ,  43.57988   , 272., 272., 0.)\n",
            " (71.49564  ,  9.15324  ,  13.286769  , 272., 304., 0.)\n",
            " (74.88472  , 11.610243 ,  21.17629   , 272., 336., 0.)\n",
            " (66.12176  ,  7.597476 ,  12.756417  , 272., 368., 0.)\n",
            " ( 3.669218 ,  6.0505486,  -5.4131203 , 304.,  16., 0.)\n",
            " ( 5.5701237,  8.43793  ,  -7.034239  , 304.,  48., 0.)\n",
            " ( 1.1584848,  3.7540653,  -1.2435724 , 304.,  80., 0.)\n",
            " (21.96029  , 21.53416  ,  -4.5089025 , 304., 112., 0.)\n",
            " (30.852015 , 10.358728 ,  -3.0454314 , 304., 144., 0.)\n",
            " (40.46042  , 17.542233 ,  22.951069  , 304., 176., 0.)\n",
            " ( 3.4625626,  6.5908856,   2.2930005 , 304., 208., 0.)\n",
            " (17.23299  , 12.328667 ,  18.273836  , 304., 240., 0.)\n",
            " (44.227554 , 10.5277815,  35.721577  , 304., 272., 0.)\n",
            " (14.93785  , 13.46198  ,   7.5569077 , 304., 304., 0.)\n",
            " (64.97746  ,  7.3232007,   6.562958  , 304., 336., 0.)\n",
            " (44.305546 , 23.489115 ,  39.779804  , 304., 368., 0.)\n",
            " ( 7.1606874, 10.233261 ,  -8.4960985 , 336.,  16., 0.)\n",
            " ( 1.9568433,  3.9156075,  -2.1029987 , 336.,  48., 0.)\n",
            " ( 4.005945 ,  6.696576 ,  -2.6031356 , 336.,  80., 0.)\n",
            " (23.14365  , 21.997156 ,  -4.94693   , 336., 112., 0.)\n",
            " ( 8.380866 , 12.1021385,  -3.6506817 , 336., 144., 0.)\n",
            " (11.154534 , 16.988287 ,  -1.7570957 , 336., 176., 0.)\n",
            " ( 3.432585 ,  7.1865087,  -2.3961582 , 336., 208., 0.)\n",
            " ( 1.6102179,  3.8117468,  -1.3944877 , 336., 240., 0.)\n",
            " ( 2.264382 ,  4.019659 ,  -1.1660253 , 336., 272., 0.)\n",
            " ( 6.7404833,  9.79865  ,   2.7076252 , 336., 304., 0.)\n",
            " (32.33894  , 12.142897 ,  -2.702862  , 336., 336., 0.)\n",
            " (12.455012 , 14.66236  ,  -1.6239326 , 336., 368., 0.)\n",
            " ( 4.8994308,  7.876906 ,  -6.6819963 , 368.,  16., 0.)\n",
            " ( 1.9279206,  3.9039204,  -2.0789056 , 368.,  48., 0.)\n",
            " (17.424698 , 13.123662 ,   1.7347262 , 368.,  80., 0.)\n",
            " ( 9.817314 , 15.098535 ,  -6.3699436 , 368., 112., 0.)\n",
            " ( 4.8957796, 10.483517 ,  -2.7884445 , 368., 144., 0.)\n",
            " ( 6.4318333, 12.20528  ,  -3.7703915 , 368., 176., 0.)\n",
            " ( 3.39296  ,  4.9193225,  -2.269512  , 368., 208., 0.)\n",
            " ( 1.9266039,  3.262407 ,  -1.9951936 , 368., 240., 0.)\n",
            " ( 1.2157431,  1.7939255,  -0.99210346, 368., 272., 0.)\n",
            " ( 1.9356774,  2.8827581,  -0.27228838, 368., 304., 0.)\n",
            " ( 4.239053 ,  5.563624 ,  -2.5699537 , 368., 336., 0.)\n",
            " ( 7.2048025,  9.351278 ,  -6.2672005 , 368., 368., 0.)]\n"
          ]
        }
      ]
    },
    {
      "cell_type": "code",
      "source": [
        "import os\n",
        "os.environ[\"CUDA_LAUNCH_BLOCKING\"] = \"1\"\n",
        "cuda.Device(0).get_attribute(cuda.device_attribute.MAX_SHARED_MEMORY_PER_BLOCK)//1024"
      ],
      "metadata": {
        "colab": {
          "base_uri": "https://localhost:8080/"
        },
        "id": "uvy-WCqcOD2V",
        "outputId": "1b80300f-889b-49d6-cd04-8d989da5242b"
      },
      "execution_count": null,
      "outputs": [
        {
          "output_type": "execute_result",
          "data": {
            "text/plain": [
              "48"
            ]
          },
          "metadata": {},
          "execution_count": 61
        }
      ]
    },
    {
      "cell_type": "code",
      "source": [
        "(150 * 6 * 2 * 4) // 1024"
      ],
      "metadata": {
        "colab": {
          "base_uri": "https://localhost:8080/"
        },
        "id": "U4pOLm62O6Gb",
        "outputId": "23334146-a166-4afd-e848-26b6acc2108b"
      },
      "execution_count": null,
      "outputs": [
        {
          "output_type": "execute_result",
          "data": {
            "text/plain": [
              "7"
            ]
          },
          "metadata": {},
          "execution_count": 63
        }
      ]
    },
    {
      "cell_type": "code",
      "source": [
        "try:\n",
        "    mod = SourceModule(cuda_kernel, options=[\"-arch=sm_75\", \"--ptxas-options=-v\"])\n",
        "except Exception as e:\n",
        "    print(e)\n",
        "\n",
        "assign_clusters_fn = mod.get_function(\"assignClusterCenters\")\n",
        "\n",
        "# cluster_array is a np array that contains LABXY, ID for each superpixel center\n",
        "cluster_info_size = cluster_array.nbytes\n",
        "label_map = np.zeros(N, dtype=np.int32)\n",
        "print(label_map.size, label_map.itemsize)\n",
        "\n",
        "\n",
        "# size of L, A, B arrays in bytes\n",
        "size_LAB = L.size * L.itemsize\n",
        "size_label_map = label_map.size * label_map.itemsize\n",
        "\n",
        "# print(size_LAB, size_label_map, label_map)\n",
        "\n",
        "d_L = cuda.mem_alloc(size_LAB)\n",
        "d_A = cuda.mem_alloc(size_LAB)\n",
        "d_B = cuda.mem_alloc(size_LAB)\n",
        "d_labelMap = cuda.mem_alloc(size_label_map)\n",
        "d_clusters = cuda.mem_alloc(cluster_info_size)\n",
        "\n",
        "#  Checks memory allocation\n",
        "if d_L is None:\n",
        "    raise RuntimeError(\"CUDA memory allocation failed for d_L!\")\n",
        "\n",
        "if d_A is None:\n",
        "    raise RuntimeError(\"CUDA memory allocation failed for d_A!\")\n",
        "\n",
        "if d_B is None:\n",
        "    raise RuntimeError(\"CUDA memory allocation failed for d_B!\")\n",
        "\n",
        "if d_labelMap is None:\n",
        "    raise RuntimeError(\"CUDA memory allocation failed for d_labelMap!\")\n",
        "\n",
        "if d_clusters is None:\n",
        "    raise RuntimeError(\"CUDA memory allocation failed for d_clusters!\")\n",
        "\n",
        "\n",
        "# Copies Data to Device\n",
        "cuda.memcpy_htod(d_L, L)\n",
        "cuda.memcpy_htod(d_A, A)\n",
        "cuda.memcpy_htod(d_B, B)\n",
        "cuda.memcpy_htod(d_labelMap, label_map)\n",
        "cuda.memcpy_htod(d_clusters, cluster_array)\n",
        "\n",
        "# CUDA Grid Configuration\n",
        "threadsPerBlock = 256\n",
        "numBlocks = (N + threadsPerBlock - 1) // threadsPerBlock\n",
        "\n",
        "# Compute Shared Memory Size\n",
        "sizeSmem = 2 * cluster_info_size\n",
        "\n",
        "# Kernel Launch\n",
        "assign_clusters_fn(d_L, d_A, d_B, d_clusters, d_labelMap,np.int32(img_w),\n",
        "                   np.int32(img_h), np.int32(N), np.int32(M), np.int32(S),\n",
        "                   block=(threadsPerBlock, 1, 1), grid=(numBlocks, 1),\n",
        "                   shared=sizeSmem)\n",
        "\n",
        "cuda.Context.synchronize()\n",
        "print(\"Kernel executed successfully\")\n",
        "\n",
        "cuda.memcpy_dtoh(label_map, d_labelMap)\n"
      ],
      "metadata": {
        "id": "teYRZGYQDf_d",
        "colab": {
          "base_uri": "https://localhost:8080/",
          "height": 349
        },
        "outputId": "aef1a342-3576-44f6-9177-951f08fdaa4b"
      },
      "execution_count": null,
      "outputs": [
        {
          "output_type": "stream",
          "name": "stdout",
          "text": [
            "cuModuleLoadDataEx failed: an illegal memory access was encountered - \n"
          ]
        },
        {
          "output_type": "error",
          "ename": "LogicError",
          "evalue": "cuModuleGetFunction failed: an illegal memory access was encountered",
          "traceback": [
            "\u001b[0;31m---------------------------------------------------------------------------\u001b[0m",
            "\u001b[0;31mLogicError\u001b[0m                                Traceback (most recent call last)",
            "\u001b[0;32m<ipython-input-66-2173147ac7b8>\u001b[0m in \u001b[0;36m<cell line: 0>\u001b[0;34m()\u001b[0m\n\u001b[1;32m      4\u001b[0m     \u001b[0mprint\u001b[0m\u001b[0;34m(\u001b[0m\u001b[0me\u001b[0m\u001b[0;34m)\u001b[0m\u001b[0;34m\u001b[0m\u001b[0;34m\u001b[0m\u001b[0m\n\u001b[1;32m      5\u001b[0m \u001b[0;34m\u001b[0m\u001b[0m\n\u001b[0;32m----> 6\u001b[0;31m \u001b[0massign_clusters_fn\u001b[0m \u001b[0;34m=\u001b[0m \u001b[0mmod\u001b[0m\u001b[0;34m.\u001b[0m\u001b[0mget_function\u001b[0m\u001b[0;34m(\u001b[0m\u001b[0;34m\"assignClusterCenters\"\u001b[0m\u001b[0;34m)\u001b[0m\u001b[0;34m\u001b[0m\u001b[0;34m\u001b[0m\u001b[0m\n\u001b[0m\u001b[1;32m      7\u001b[0m \u001b[0;34m\u001b[0m\u001b[0m\n\u001b[1;32m      8\u001b[0m \u001b[0;31m# cluster_array is a np array that contains LABXY, ID for each superpixel center\u001b[0m\u001b[0;34m\u001b[0m\u001b[0;34m\u001b[0m\u001b[0m\n",
            "\u001b[0;32m/usr/local/lib/python3.11/dist-packages/pycuda/compiler.py\u001b[0m in \u001b[0;36mget_function\u001b[0;34m(self, name)\u001b[0m\n\u001b[1;32m    323\u001b[0m \u001b[0;34m\u001b[0m\u001b[0m\n\u001b[1;32m    324\u001b[0m     \u001b[0;32mdef\u001b[0m \u001b[0mget_function\u001b[0m\u001b[0;34m(\u001b[0m\u001b[0mself\u001b[0m\u001b[0;34m,\u001b[0m \u001b[0mname\u001b[0m\u001b[0;34m)\u001b[0m\u001b[0;34m:\u001b[0m\u001b[0;34m\u001b[0m\u001b[0;34m\u001b[0m\u001b[0m\n\u001b[0;32m--> 325\u001b[0;31m         \u001b[0;32mreturn\u001b[0m \u001b[0mself\u001b[0m\u001b[0;34m.\u001b[0m\u001b[0mmodule\u001b[0m\u001b[0;34m.\u001b[0m\u001b[0mget_function\u001b[0m\u001b[0;34m(\u001b[0m\u001b[0mname\u001b[0m\u001b[0;34m)\u001b[0m\u001b[0;34m\u001b[0m\u001b[0;34m\u001b[0m\u001b[0m\n\u001b[0m\u001b[1;32m    326\u001b[0m \u001b[0;34m\u001b[0m\u001b[0m\n\u001b[1;32m    327\u001b[0m \u001b[0;34m\u001b[0m\u001b[0m\n",
            "\u001b[0;31mLogicError\u001b[0m: cuModuleGetFunction failed: an illegal memory access was encountered"
          ]
        }
      ]
    },
    {
      "cell_type": "code",
      "source": [
        "print(label_map.shape)"
      ],
      "metadata": {
        "id": "DTzs-zKpOdJF",
        "colab": {
          "base_uri": "https://localhost:8080/"
        },
        "outputId": "269f0452-01c3-4302-b814-58632757b2fb"
      },
      "execution_count": null,
      "outputs": [
        {
          "output_type": "stream",
          "name": "stdout",
          "text": [
            "(160000,)\n"
          ]
        }
      ]
    },
    {
      "cell_type": "code",
      "source": [
        "np.unique(label_map, return_counts=True)"
      ],
      "metadata": {
        "colab": {
          "base_uri": "https://localhost:8080/"
        },
        "id": "ICSO25IGJfnx",
        "outputId": "845a774d-d52e-4a36-9c00-7e2d0262f552"
      },
      "execution_count": null,
      "outputs": [
        {
          "output_type": "execute_result",
          "data": {
            "text/plain": [
              "(array([0], dtype=int32), array([160000]))"
            ]
          },
          "metadata": {},
          "execution_count": 50
        }
      ]
    },
    {
      "cell_type": "code",
      "execution_count": null,
      "metadata": {
        "colab": {
          "base_uri": "https://localhost:8080/"
        },
        "id": "badxR0BT_fGk",
        "outputId": "8b39d4aa-4382-4983-a803-bf6628c9dca1"
      },
      "outputs": [
        {
          "output_type": "stream",
          "name": "stdout",
          "text": [
            "Time taken is 131309.42249298096 ms\n"
          ]
        }
      ],
      "source": [
        "start_time = time.time()\n",
        "cluster = slic(S, img, img_h, img_w, clusters, tag, dis)\n",
        "end_time = time.time()\n",
        "\n",
        "print(f\"Time taken is {(end_time - start_time) * 1000} ms\")"
      ]
    },
    {
      "cell_type": "code",
      "source": [
        "cProfile.run('slic(S, img, img_h, img_w, clusters, tag, dis)', 'profile_results')"
      ],
      "metadata": {
        "id": "kCPsu3qTEkKa"
      },
      "execution_count": null,
      "outputs": []
    },
    {
      "cell_type": "code",
      "source": [
        "stats = pstats.Stats('profile_results')\n",
        "stats.sort_stats(pstats.SortKey.TIME).print_stats(15)"
      ],
      "metadata": {
        "colab": {
          "base_uri": "https://localhost:8080/"
        },
        "id": "mC6ffQF9EsDD",
        "outputId": "f70d0ac4-d2e3-4b7c-a248-b6319ff24640"
      },
      "execution_count": null,
      "outputs": [
        {
          "output_type": "stream",
          "name": "stdout",
          "text": [
            "Wed Feb  5 07:56:45 2025    profile_results\n",
            "\n",
            "         830874310 function calls (830874307 primitive calls) in 578.676 seconds\n",
            "\n",
            "   Ordered by: internal time\n",
            "   List reduced from 299 to 15 due to restriction <15>\n",
            "\n",
            "   ncalls  tottime  percall  cumtime  percall filename:lineno(function)\n",
            "       10  446.984   44.698  574.103   57.410 <ipython-input-6-8cd683e35477>:5(assign_pixels_to_cluster)\n",
            "580425832  100.727    0.000  100.727    0.000 {built-in method math.pow}\n",
            "248753928   25.630    0.000   25.630    0.000 {built-in method math.sqrt}\n",
            "       10    3.339    0.334    4.023    0.402 <ipython-input-7-2dcaf0d4e4fe>:2(update_cluster_mean)\n",
            "    43385    0.757    0.000    0.757    0.000 {method 'remove' of 'list' objects}\n",
            "  1601879    0.685    0.000    0.685    0.000 <ipython-input-11-cc6432300d62>:8(update)\n",
            "        1    0.430    0.430    0.527    0.527 <ipython-input-8-d4992ef63ce6>:2(avg_color_cluster)\n",
            "        1    0.029    0.029    0.038    0.038 /usr/local/lib/python3.11/dist-packages/skimage/color/colorconv.py:1192(_lab2xyz)\n",
            "        1    0.022    0.022    0.027    0.027 /usr/local/lib/python3.11/dist-packages/skimage/color/colorconv.py:757(xyz2rgb)\n",
            "        1    0.019    0.019    0.019    0.019 {method 'encode' of 'ImagingEncoder' objects}\n",
            "     4000    0.015    0.000    0.015    0.000 <ipython-input-4-d63190cbc075>:2(calc_gradient)\n",
            "        1    0.007    0.007    0.022    0.022 <ipython-input-5-d2f5ae0010cb>:2(reassign_cluster_center_acc_to_grad)\n",
            "    43490    0.005    0.000    0.005    0.000 {method 'append' of 'list' objects}\n",
            "        1    0.004    0.004    0.004    0.004 /usr/local/lib/python3.11/dist-packages/numpy/core/shape_base.py:372(stack)\n",
            "        1    0.004    0.004    0.004    0.004 {method 'copy' of 'numpy.ndarray' objects}\n",
            "\n",
            "\n"
          ]
        },
        {
          "output_type": "execute_result",
          "data": {
            "text/plain": [
              "<pstats.Stats at 0x79c51fd16b50>"
            ]
          },
          "metadata": {},
          "execution_count": 23
        }
      ]
    },
    {
      "cell_type": "code",
      "execution_count": null,
      "metadata": {
        "colab": {
          "base_uri": "https://localhost:8080/"
        },
        "id": "awxps-oZ_fGl",
        "outputId": "2f6c7b54-5382-4997-a84c-55cea290aa3a"
      },
      "outputs": [
        {
          "output_type": "stream",
          "name": "stdout",
          "text": [
            "H 19 : W 20, l 24.089975801150572, a 6.983582114595571, b -13.266387089229582\n",
            "H 16 : W 65, l 16.40778156165713, a 8.0141126927899, b -13.93056274157145\n",
            "H 16 : W 112, l 54.79510797636068, a 2.960649997742648, b -7.700683087250404\n",
            "H 25 : W 150, l 10.238819499505958, a 9.567046758129457, b -7.46135584808576\n",
            "H 22 : W 185, l 3.403919588186259, a 4.9411272689862535, b -2.265624862039256\n",
            "H 19 : W 219, l 12.324725907118658, a 9.593432142641815, b -0.5983476330680915\n",
            "H 18 : W 257, l 8.092761208054739, a 10.681077429955735, b -9.075347388015853\n",
            "H 19 : W 299, l 4.921299588520306, a 8.875064284386628, b -8.29229822245907\n",
            "H 14 : W 339, l 6.623024157664659, a 10.432628886679742, b -8.98276346783824\n",
            "H 19 : W 378, l 3.6456278365098953, a 5.468407041481507, b -4.6360393064611145\n",
            "H 60 : W 19, l 5.104836088688547, a 4.198537100423519, b -8.945196661033378\n",
            "H 54 : W 66, l 4.979812284699815, a 4.975935550010885, b -7.376025677730841\n",
            "H 56 : W 106, l 21.377268316316183, a 6.909486083425426, b -13.645276743480272\n",
            "H 59 : W 139, l 45.44099804328948, a 4.872432395860327, b -7.931197603912854\n",
            "H 65 : W 178, l 1.4916896630994323, a 3.9660249714804365, b -2.023301499647606\n",
            "H 59 : W 219, l 1.902519158790902, a 4.806863529359163, b -2.728373046642213\n",
            "H 59 : W 264, l 1.06539394544426, a 1.324511669226633, b -1.3020513173756354\n",
            "H 72 : W 305, l 20.28016064416333, a 17.841670650815324, b 0.5070922859529703\n",
            "H 54 : W 333, l 1.2037360062931697, a 1.248682726001857, b -2.094153369112578\n",
            "H 58 : W 379, l 0.9749914365794723, a 1.8248722228982746, b -2.298393048547992\n",
            "H 104 : W 17, l 4.544499239496844, a 3.0946410144517267, b -7.621130866275139\n",
            "H 94 : W 58, l 2.4755866468186944, a 1.9089530400729222, b -3.9486787034407778\n",
            "H 91 : W 99, l 1.0343729065636644, a 1.0998275972199656, b -2.168965929072697\n",
            "H 100 : W 137, l 16.109023960209342, a 3.425086180049164, b -7.742496909686358\n",
            "H 107 : W 179, l 45.18937616899789, a 5.504510352657698, b 7.482885991482247\n",
            "H 94 : W 219, l 6.650429004377383, a 12.709271199019781, b -3.4640639331420586\n",
            "H 99 : W 258, l 2.6857396546535632, a 4.705813988897703, b -2.31063903087233\n",
            "H 100 : W 295, l 2.3011996398548966, a 4.6518238026704575, b -3.290183648366435\n",
            "H 95 : W 345, l 0.814357256826792, a 2.142135478575419, b -1.8594978042496768\n",
            "H 99 : W 381, l 1.242927536982009, a 1.1756674895742751, b -1.5778605342580077\n",
            "H 148 : W 13, l 1.9436746233232434, a 4.09696142708163, b -1.7014488569463027\n",
            "H 132 : W 51, l 54.6992928808351, a -1.9059016119114536, b -8.021266152714169\n",
            "H 133 : W 97, l 21.505313129494404, a 8.423008025651962, b -6.206655817956208\n",
            "H 140 : W 137, l 85.03534348440157, a -0.3192285284908669, b 7.7367841317152575\n",
            "H 151 : W 174, l 63.11456737204021, a 24.91718309288471, b 40.8838201241442\n",
            "H 136 : W 217, l 91.99201070600753, a -1.8359797595765004, b 8.308694200168777\n",
            "H 144 : W 253, l 39.733939045833466, a 16.625463782613565, b 26.04922294398506\n",
            "H 142 : W 295, l 6.554442988207356, a 14.093738797935782, b 0.1835509850044048\n",
            "H 139 : W 335, l 4.716233748383278, a 8.423906378082686, b -2.7552508225977768\n",
            "H 140 : W 378, l 4.200791135861451, a 6.080307264300741, b -2.7180673973966227\n",
            "H 180 : W 25, l 13.998541624431951, a 14.825008206083956, b -8.56286725491302\n",
            "H 180 : W 62, l 10.80623815271516, a 11.084003417693152, b -7.498433518722197\n",
            "H 179 : W 98, l 15.508569723015448, a 9.154215280754801, b 8.122716254396039\n",
            "H 168 : W 126, l 38.75647518232369, a 12.040179251692567, b 7.139531837951141\n",
            "H 189 : W 204, l 70.28609281221925, a 31.235577853360454, b 65.71719713399861\n",
            "H 173 : W 213, l 50.60133043048904, a 33.61469078334933, b 58.06858370592136\n",
            "H 195 : W 270, l 56.85315511175864, a 21.84737967721184, b 26.166248759009868\n",
            "H 182 : W 293, l 70.4807824854482, a 7.098015641218536, b 13.0083957703226\n",
            "H 181 : W 345, l 4.467571940304506, a 8.017669137062047, b -2.7609840596870994\n",
            "H 180 : W 380, l 11.114051633877168, a 13.852913123199958, b -4.0794012415635015\n",
            "H 220 : W 23, l 9.55507122098988, a 10.619918228588377, b -7.824628717005261\n",
            "H 221 : W 63, l 7.951285347214927, a 7.976991531606692, b -3.5553418879464447\n",
            "H 219 : W 97, l 14.36684736178265, a 7.871164783804368, b -3.968148852811071\n",
            "H 208 : W 138, l 48.9000609453301, a 22.23385621248475, b 30.631577885227056\n",
            "H 210 : W 174, l 67.82638283870642, a 25.75853457346222, b 58.52060989285265\n",
            "H 223 : W 219, l 52.505908057672954, a 33.55531464596617, b 56.83406728359892\n",
            "H 216 : W 252, l 73.60993482632708, a 29.030111493089706, b 48.777927325846804\n",
            "H 225 : W 304, l 27.23548530858664, a 14.638723572297952, b 13.813183550963071\n",
            "H 209 : W 334, l 61.577529891465204, a 39.00277613096975, b 32.56721828714644\n",
            "H 222 : W 381, l 3.809181927763891, a 6.430009631350556, b 0.4946063945290402\n",
            "H 258 : W 18, l 2.3398874300114265, a 2.2366601391599765, b -1.9038327943544597\n",
            "H 250 : W 57, l 23.588272194537048, a 12.07687665022955, b -8.326756157874415\n",
            "H 259 : W 97, l 5.2911792825591135, a 9.517567784529572, b -2.8757804942087684\n",
            "H 254 : W 150, l 21.603657270235658, a 10.46840593944784, b 2.3481623597003676\n",
            "H 258 : W 187, l 36.94895630090155, a 11.821285016159312, b 28.775548397086826\n",
            "H 257 : W 216, l 32.964116940446466, a 23.334986947004033, b 37.412614939466536\n",
            "H 262 : W 265, l 57.12847438202431, a 21.357909289190513, b 39.628111196239466\n",
            "H 264 : W 299, l 74.10106452415039, a 15.203162652309476, b 21.485339582621734\n",
            "H 263 : W 346, l 80.72904944835304, a 9.344519527082484, b 15.701298023980193\n",
            "H 269 : W 373, l 24.85258477099243, a 11.996284711406041, b -3.0811150739433746\n",
            "H 298 : W 17, l 3.4406082268193146, a 4.135704320487668, b -3.135834728891307\n",
            "H 295 : W 57, l 4.838439162926775, a 7.781301766133578, b -6.630900434798143\n",
            "H 299 : W 94, l 1.7591338259276768, a 3.839647744615843, b -0.877693860241674\n",
            "H 299 : W 136, l 19.720157286365385, a 12.052562103605641, b -3.5471230371597717\n",
            "H 303 : W 178, l 39.279082859931144, a 14.973692073581013, b 22.737532114543633\n",
            "H 287 : W 222, l 22.18330271652391, a 11.795420841309772, b 22.272617886731222\n",
            "H 306 : W 273, l 51.35011552482332, a 8.736791613828176, b 34.58790020162002\n",
            "H 304 : W 308, l 6.721197054325618, a 6.2208887906948505, b 6.880708271919578\n",
            "H 309 : W 339, l 61.05100802941091, a 5.5094366707189035, b 5.15545599557532\n",
            "H 304 : W 382, l 5.428210210266791, a 10.226825155612504, b -2.8495368585903624\n",
            "H 339 : W 17, l 7.397641476754295, a 10.30690271633565, b -8.622589121572815\n",
            "H 339 : W 61, l 2.251881759590134, a 4.309853888931486, b -2.01516904752832\n",
            "H 341 : W 106, l 14.163902193503048, a 18.81916216790608, b -5.773734637585715\n",
            "H 338 : W 142, l 9.551019805328878, a 12.373106031957654, b -3.478764896662639\n",
            "H 343 : W 178, l 5.3505653338681185, a 11.184073337060104, b -2.9799616235970827\n",
            "H 333 : W 219, l 3.5189128877878098, a 7.077952670839147, b -2.3718858833991217\n",
            "H 337 : W 258, l 1.8605448237826643, a 3.8929888658975758, b -1.1929285013557833\n",
            "H 342 : W 303, l 4.216806258435138, a 7.50509700114535, b 0.6613593055877887\n",
            "H 343 : W 347, l 12.561844757790507, a 13.851955329355528, b -0.9852037137099534\n",
            "H 341 : W 383, l 6.746201159361757, a 9.763717233276958, b -3.91609042287992\n",
            "H 380 : W 20, l 1.4502605805065691, a 3.9612627002034024, b -1.6494207870306254\n",
            "H 379 : W 56, l 1.961842432405568, a 3.835699930175074, b -1.3929856946834351\n",
            "H 380 : W 96, l 5.586292405870992, a 9.948826213349665, b -4.126416077441508\n",
            "H 380 : W 142, l 6.616930336741387, a 11.914240703657791, b -7.4517456655263326\n",
            "H 380 : W 182, l 3.924537350357035, a 5.326154082790302, b -2.4513541553946028\n",
            "H 379 : W 219, l 2.7714912212523366, a 4.525979415164652, b -2.112501096996988\n",
            "H 379 : W 257, l 1.9971234207972586, a 2.7914415195450792, b -0.44409170953608745\n",
            "H 379 : W 295, l 1.343875031852047, a 1.8785379553409172, b -0.6522004949235383\n",
            "H 378 : W 334, l 4.205658632584623, a 5.538766332295261, b -2.5575212348430796\n",
            "H 380 : W 378, l 7.642848071354283, a 10.40964710470456, b -4.090277706119805\n"
          ]
        }
      ],
      "source": [
        "# superpixels\n",
        "for c in cluster:\n",
        "    print(\"H {} : W {}, l {}, a {}, b {}\".format(c.h,c.w,c.l,c.a,c.b))"
      ]
    },
    {
      "cell_type": "code",
      "execution_count": null,
      "metadata": {
        "id": "bDBdRHox_fGl"
      },
      "outputs": [],
      "source": []
    }
  ],
  "metadata": {
    "kernelspec": {
      "display_name": "Python 3",
      "name": "python3"
    },
    "language_info": {
      "codemirror_mode": {
        "name": "ipython",
        "version": 3
      },
      "file_extension": ".py",
      "mimetype": "text/x-python",
      "name": "python",
      "nbconvert_exporter": "python",
      "pygments_lexer": "ipython3",
      "version": "3.6.7"
    },
    "colab": {
      "provenance": [],
      "gpuType": "T4",
      "include_colab_link": true
    },
    "accelerator": "GPU"
  },
  "nbformat": 4,
  "nbformat_minor": 0
}