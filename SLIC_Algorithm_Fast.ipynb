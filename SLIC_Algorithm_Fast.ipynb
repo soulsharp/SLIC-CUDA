{
  "cells": [
    {
      "cell_type": "code",
      "source": [
        "!pip install pycuda"
      ],
      "metadata": {
        "id": "heQtSY3su-Wb"
      },
      "execution_count": null,
      "outputs": []
    },
    {
      "cell_type": "code",
      "execution_count": null,
      "metadata": {
        "id": "-98tzmnG_fGY"
      },
      "outputs": [],
      "source": [
        "import math\n",
        "from skimage import io, color\n",
        "from skimage.transform import resize\n",
        "import numpy as np\n",
        "import time\n",
        "import pstats\n",
        "import cProfile\n",
        "import pybind11\n",
        "import pycuda.driver as cuda\n",
        "import pycuda.autoinit\n",
        "import numpy as np\n",
        "from pycuda.compiler import SourceModule"
      ]
    },
    {
      "cell_type": "code",
      "execution_count": null,
      "metadata": {
        "id": "Gr8JTXpW_fGc"
      },
      "outputs": [],
      "source": [
        "# function which returns an object of class SuperPixel\n",
        "def make_superPixel(h, w, img, superpixel_id):\n",
        "    return SuperPixels(h, w, img[h, w][0], img[h, w][1], img[h, w][2], superpixel_id)"
      ]
    },
    {
      "cell_type": "code",
      "execution_count": null,
      "metadata": {
        "id": "-oVdgKQu_fGd"
      },
      "outputs": [],
      "source": [
        "# To define the initial cluster centers distanced at S\n",
        "def initial_cluster_center(S, img, img_h, img_w):\n",
        "    clusters = []\n",
        "    height = S // 2\n",
        "    width = S // 2\n",
        "    superpixel_id = 0.0\n",
        "    while h < img_h:\n",
        "        while w < img_w:\n",
        "            superpixel_id += 1\n",
        "            clusters.append(make_superPixel(h, w, img, superpixel_id))\n",
        "            w += S\n",
        "        w = S // 2\n",
        "        h += S\n",
        "    return clusters"
      ]
    },
    {
      "cell_type": "code",
      "execution_count": null,
      "metadata": {
        "id": "asIMR7ww_fGe"
      },
      "outputs": [],
      "source": [
        "# function to calculate gradient at each pixel\n",
        "def calc_gradient(h, w, img, img_w, img_h):\n",
        "    if w + 1 >= img_w:\n",
        "        w = img_w - 2\n",
        "    if h + 1 >= img_h:\n",
        "        h = img_h - 2\n",
        "    grad = img[w + 1, h + 1][0] - img[w, h][0] + img[w + 1, h + 1][1] - img[w, h][1] + img[w + 1, h + 1][2] - img[w, h][2]\n",
        "    return grad"
      ]
    },
    {
      "cell_type": "code",
      "execution_count": null,
      "metadata": {
        "id": "174JIxXa_fGe"
      },
      "outputs": [],
      "source": [
        "# function which reassign the cluster center to the pixel having the lowest gradient\n",
        "def reassign_cluster_center_acc_to_grad(clusters, img):\n",
        "    for c in clusters:\n",
        "        cluster_gradient = calc_gradient(c.h, c.w, img, img_w, img_h)\n",
        "        for dh in range(-1, 2):\n",
        "            for dw in range(-1, 2):\n",
        "                H = c.h + dh\n",
        "                W = c.w + dw\n",
        "                new_gradient = calc_gradient(H, W, img, img_w, img_h)\n",
        "                if new_gradient < cluster_gradient:\n",
        "                    c.update(H, W, img[H,W][0], img[H,W][1], img[H,W][2])\n",
        "                    c_gradient = new_gradient\n"
      ]
    },
    {
      "cell_type": "code",
      "execution_count": null,
      "metadata": {
        "id": "TzZqiOWl_fGf"
      },
      "outputs": [],
      "source": [
        "# To-do : Major bottleneck, rewrite in CUDA\n",
        "# Ensure that acesses are vectorized/ parallel\n",
        "'''\n",
        "function to assign pixels to the nearest cluster using the Euclidean distance involving both color and spatial\n",
        "proximity.\n",
        "'''\n",
        "def assign_pixels_to_cluster(clusters, S, img, img_h, img_w, tag, dis):\n",
        "    for c in clusters:\n",
        "        for h in range(c.h - 2 * S, c.h + 2 * S):\n",
        "            if h < 0 or h >= img_h: continue\n",
        "            for w in range(c.w - 2 * S, c.w + 2 * S):\n",
        "                if w < 0 or w >= img_w: continue\n",
        "                l, a, b = img[h,w]\n",
        "                Dc = math.sqrt(math.pow(l - c.l, 2) + math.pow(a - c.a, 2) + math.pow(b - c.b, 2))\n",
        "                Ds = math.sqrt(math.pow(h - c.h, 2) + math.pow(w - c.w, 2))\n",
        "                D = math.sqrt(math.pow(Dc / m, 2) + math.pow(Ds / S, 2))\n",
        "                if D < dis[h,w]:\n",
        "                    if (h, w) not in tag:\n",
        "                        tag[(h, w)] = c\n",
        "                        c.pixels.append((h, w))\n",
        "                    else:\n",
        "                        tag[(h, w)].pixels.remove((h, w))\n",
        "                        tag[(h, w)] = c\n",
        "                        c.pixels.append((h, w))\n",
        "                    dis[h, w] = D"
      ]
    },
    {
      "cell_type": "code",
      "execution_count": null,
      "metadata": {
        "id": "TPX6lxFn_fGf"
      },
      "outputs": [],
      "source": [
        "# function to replace the cluster center with the mean of the pixels contained in the cluster\n",
        "def update_cluster_mean(clusters):\n",
        "    for c in clusters:\n",
        "        sum_h = sum_w = number = 0\n",
        "        #print(\"c.pixels\",c.pixels)\n",
        "        for p in c.pixels:\n",
        "            sum_h += p[0]\n",
        "            sum_w += p[1]\n",
        "            number += 1\n",
        "            H = sum_h // number\n",
        "            W = sum_w // number\n",
        "            c.update(H, W,img[H, W][0], img[H, W][1], img[H, W][2])"
      ]
    },
    {
      "cell_type": "code",
      "execution_count": null,
      "metadata": {
        "id": "94YkCRyA_fGg"
      },
      "outputs": [],
      "source": [
        "# replace the color of each pixel in a cluster by the color of the cluster's center\n",
        "def avg_color_cluster(img, name, clusters):\n",
        "    image = np.copy(img)\n",
        "    for c in clusters:\n",
        "        for p in c.pixels:\n",
        "            image[p[0],p[1]][0] = c.l\n",
        "            image[p[0],p[1]][1] = c.a\n",
        "            image[p[0],p[1]][2] = c.b\n",
        "        # To change the color of cluster center to Black\n",
        "        # image[c.h, c.w][0] = 0\n",
        "        # image[c.h, c.w][1] = 0\n",
        "        # image[c.h, c.w][2] = 0\n",
        "    lab2rgb(name, image)"
      ]
    },
    {
      "cell_type": "code",
      "execution_count": null,
      "metadata": {
        "id": "10-57e3y_fGg"
      },
      "outputs": [],
      "source": [
        "# function for the Simple Linear Iterative Clustering\n",
        "def slic(S, img, img_h, img_w, clusters, tag, dis):\n",
        "    clusters = initial_cluster_center(S, img, img_h, img_w)\n",
        "    reassign_cluster_center_acc_to_grad(clusters, img)\n",
        "\n",
        "    # Runs SLIC for 10 iterations\n",
        "    for i in range(10):\n",
        "        assign_pixels_to_cluster(clusters, S, img, img_h, img_w, tag, dis)\n",
        "        update_cluster_mean(clusters)\n",
        "\n",
        "        # Saves image after 10 iterations\n",
        "        if i == 9 :\n",
        "            name = 'out_m{m}_k{k}.png'.format(loop=i, m=m, k=k)\n",
        "            avg_color_cluster(img, name, clusters)\n",
        "    return clusters"
      ]
    },
    {
      "cell_type": "code",
      "execution_count": null,
      "metadata": {
        "id": "cQigiHtr_fGh"
      },
      "outputs": [],
      "source": [
        "# function to convert LAB images back to RGB and save it\n",
        "def lab2rgb(path, lab_arr):\n",
        "    rgb_arr = color.lab2rgb(lab_arr)\n",
        "    rgb_arr = (rgb_arr * 255).astype(np.uint8)\n",
        "    io.imsave(path, rgb_arr)"
      ]
    },
    {
      "cell_type": "code",
      "execution_count": null,
      "metadata": {
        "id": "JTSPwDQI_fGi"
      },
      "outputs": [],
      "source": [
        "# Todo - Assign a cluster id to each superpixel, which makes it easy to assign centers later\n",
        "# A class to initialize the super pixels, of the form - [h,w,l,a,b].\n",
        "class SuperPixels(object):\n",
        "\n",
        "    def __init__(self, h, w, l=0, a=0, b=0, id=0):\n",
        "        self.update(h, w, l, a, b, id)\n",
        "        self.pixels = []\n",
        "\n",
        "    def update(self, h, w, l, a, b, id):\n",
        "        self.h = h\n",
        "        self.w = w\n",
        "        self.l = l\n",
        "        self.a = a\n",
        "        self.b = b\n",
        "        self.id = id"
      ]
    },
    {
      "cell_type": "code",
      "source": [
        "# Contains all kernels to make SLIC faster\n",
        "cuda_kernel=\"\"\"\n",
        "#include <cfloat>\n",
        "\n",
        "// Define a struct for all cluster centers\n",
        "struct clusterCenter{\n",
        "  float l;\n",
        "  float a;\n",
        "  float b;\n",
        "  float x;\n",
        "  float y;\n",
        "  float id;\n",
        "};\n",
        "\n",
        "// This kernel calculates the distance between a pixel and cluster centers and\n",
        "// assigns them an ID based on the nearest cluster\n",
        "__global__ void assignClusterCenters(float* L, float* A, float* B, clusterCenter* clusterPtr,\n",
        "                                    int* labelMap, int imageWidth, int imageHeight,\n",
        "                                    int numSuperpixels, int M, int S){\n",
        "\n",
        "  int tid = threadIdx.x;\n",
        "  int global_tid = tid + blockIdx.x * blockDim.x;\n",
        "\n",
        "  // Slic Algorithm operates for 10 iterations for convergence\n",
        "  for(int i=0; i<10; ++i){\n",
        "\n",
        "  // Only load into shared memory the first iteration\n",
        "  if(i==0){\n",
        "\n",
        "  // Total number of values to load\n",
        "  int numValues = numSuperpixels * 6;\n",
        "\n",
        "  // Workload per thread\n",
        "  int elementsPerThread = (numValues + blockDim.x - 1) / blockDim.x;\n",
        "  int startIdx = tid * elementsPerThread;\n",
        "\n",
        "  // Ensure threads don’t access out-of-bounds memory\n",
        "  for (int i = 0; i < elementsPerThread; ++i) {\n",
        "    int idx = startIdx + i;\n",
        "    if (idx < numValues) {\n",
        "      clusterInfo[idx] = reinterpret_cast<float*>(clusterPtr)[idx];\n",
        "    }\n",
        "  }\n",
        "\n",
        "  // Note to self: Think more about the placement of this barrier, its inside a conditional, might cause sync problems\n",
        "  __syncthreads();\n",
        "\n",
        "  }\n",
        "\n",
        "\n",
        "  int X = global_tid % imageWidth;\n",
        "  int Y = global_tid / imageWidth;\n",
        "  int minClusterIdx = 0;\n",
        "  float minDist = FLT_MAX;\n",
        "\n",
        "  // computes distance to all cluster centers and assign pixel to the nearest one\n",
        "  for(int i = 0; i < numSuperpixels; ++i){\n",
        "    float cL = clusterInfo[i * 6 + 0];\n",
        "    float cA = clusterInfo[i * 6 + 1];\n",
        "    float cB = clusterInfo[i * 6 + 2];\n",
        "    float cX = clusterInfo[i * 6 + 3];\n",
        "    float cY = clusterInfo[i * 6 + 4];\n",
        "    int cID = static_cast<int>(clusterInfo[i * 6 + 5]);\n",
        "\n",
        "    // Euclidean distance\n",
        "    float eucDist = sqrtf((cX - X) * (cX - X) + (cY - Y) * (cY - Y));\n",
        "\n",
        "    // LAB color distance\n",
        "    float labDist = sqrtf((cL - L[tid]) * (cL - L[tid]) +\n",
        "                    (cA - A[tid]) * (cA - A[tid]) +\n",
        "                    (cB - B[tid]) * (cB - B[tid]));\n",
        "\n",
        "    // Total distance\n",
        "    float totalDist = sqrtf((labDist / M) * (labDist / M) + (eucDist / S) * (eucDist / S));\n",
        "\n",
        "    // Gets the nearest cluster's ID\n",
        "    if(totalDist < minDist){\n",
        "      minClusterIdx = cID;\n",
        "      minDist = totalDist;\n",
        "    }\n",
        "  }\n",
        "\n",
        "  // Assigns labelMap location corresponding to the tid, the min cluster ID\n",
        "  labelMap[global_tid] = minClusterIdx;\n",
        "\n",
        "\n",
        "}\n",
        "\n",
        "// Update the cluster center vals\n",
        "\n",
        "}\n",
        "\n",
        "\"\"\"\n",
        "\n"
      ],
      "metadata": {
        "id": "83ylCqQbhKzv"
      },
      "execution_count": null,
      "outputs": []
    },
    {
      "cell_type": "code",
      "execution_count": null,
      "metadata": {
        "colab": {
          "base_uri": "https://localhost:8080/"
        },
        "id": "iJJWPoYV_fGi",
        "outputId": "0d36b475-b9ce-4bd0-d692-1d244c6cb9c5"
      },
      "outputs": [
        {
          "output_type": "stream",
          "name": "stdout",
          "text": [
            "(4610, 3648, 3)\n",
            "(400, 400, 3)\n"
          ]
        }
      ],
      "source": [
        "# Reads the input RGB image\n",
        "rgb = io.imread(\"/content/joel-filipe-QwoNAhbmLLo-unsplash.jpg\")\n",
        "print(rgb.shape)\n",
        "\n",
        "# Resize images to (400 x 400) for processing\n",
        "img = resize(rgb, (400,400), anti_aliasing=True)\n",
        "print(img.shape)\n",
        "\n",
        "# convert RGB to LAB\n",
        "img = color.rgb2lab(img)\n",
        "L, A, B = img[:, :, 0].ravel(), img[:, :, 1].ravel(), img[:, :, 2].ravel()\n",
        "\n",
        "k = 150   # Number of Super pixels\n",
        "m = 20    # Constant for normalizing the color proximity, range of m = [1,40]\n",
        "\n",
        "img_h = img.shape[0] # Image Height\n",
        "img_w = img.shape[1] # Image Width\n",
        "\n",
        "N = img_h * img_w  # Total number of pixels in the image\n",
        "S = int(math.sqrt(N /k)) # average size of each superpixel\n",
        "\n",
        "# clusters = []\n",
        "# tag = {}\n",
        "# # initialize the distance between pixels and cluster center as infinity\n",
        "# dis = np.full((img_h, img_w), np.inf)"
      ]
    },
    {
      "cell_type": "code",
      "source": [
        "# Gets the initial cluster center\n",
        "clusters = initial_cluster_center(S, img, img_h, img_w, clusters)\n",
        "\n",
        "# Defines a np dtype that contains all important info abt the cluster centers\n",
        "struct_dtype = np.dtype([\n",
        "  (\"l\", np.float32),\n",
        "  (\"a\", np.float32),\n",
        "  (\"b\", np.float32),\n",
        "  (\"x\", np.float32),\n",
        "  (\"y\", np.float32),\n",
        "  (\"id\", np.float32),\n",
        "])\n",
        "\n",
        "cluster_array = np.array([(cluster.l, cluster.a, cluster.b, cluster.h, cluster.w, cluster.id) for cluster in clusters], dtype=struct_dtype)"
      ],
      "metadata": {
        "id": "w3PhxOBb-klk"
      },
      "execution_count": null,
      "outputs": []
    },
    {
      "cell_type": "code",
      "source": [
        "# Defines compilation options\n",
        "mod = SourceModule(cuda_kernel, options=[\"-arch=sm_75\"])\n",
        "\n",
        "assign_clusters_fn = mod.get_function(\"assignClusterCenters\")\n",
        "\n",
        "# cluster_array is a np array that contains LABXY, ID for each superpixel center\n",
        "cluster_info_size = cluster_array.nbytes\n",
        "\n",
        "# size of L, A, B arrays in bytes\n",
        "size_LAB = N * np.dtype(np.float32).itemsize\n",
        "size_label_map = N * np.dtype(np.uint8).itemsize\n",
        "label_map = np.zeros(N, dtype=np.uint8)\n",
        "\n",
        "d_L = cuda.mem_alloc(size_LAB)\n",
        "d_A = cuda.mem_alloc(size_LAB)\n",
        "d_B = cuda.mem_alloc(size_LAB)\n",
        "d_labelMap = cuda.mem_alloc(size_label_map)\n",
        "d_clusters = cuda.mem_alloc(cluster_info_size)\n",
        "\n",
        "# Copies Data to Device\n",
        "cuda.memcpy_htod(d_L, L)\n",
        "cuda.memcpy_htod(d_A, A)\n",
        "cuda.memcpy_htod(d_B, B)\n",
        "cuda.memcpy_htod(d_labelMap, label_map)\n",
        "cuda.memcpy_htod(d_clusters, cluster_array)\n",
        "\n",
        "# CUDA Grid Configuration\n",
        "threadsPerBlock = 256\n",
        "numBlocks = (numPixels + threadsPerBlock - 1) // threadsPerBlock\n",
        "\n",
        "# Compute Shared Memory Size\n",
        "sizeSmem = 2 * cluster_info_size\n",
        "\n",
        "# Kernel Launch\n",
        "assign_clusters_fn(d_L, d_A, d_B, d_clusters, d_labelMap, d_clusters,\n",
        "                       img_w, img_h, N, M, S,\n",
        "                       block=(threadsPerBlock, 1, 1), grid=(numBlocks, 1),\n",
        "                       shared=sizeSmem)\n"
      ],
      "metadata": {
        "id": "teYRZGYQDf_d"
      },
      "execution_count": null,
      "outputs": []
    },
    {
      "cell_type": "code",
      "execution_count": null,
      "metadata": {
        "colab": {
          "base_uri": "https://localhost:8080/"
        },
        "id": "badxR0BT_fGk",
        "outputId": "8b39d4aa-4382-4983-a803-bf6628c9dca1"
      },
      "outputs": [
        {
          "output_type": "stream",
          "name": "stdout",
          "text": [
            "Time taken is 131309.42249298096 ms\n"
          ]
        }
      ],
      "source": [
        "start_time = time.time()\n",
        "cluster = slic(S, img, img_h, img_w, clusters, tag, dis)\n",
        "end_time = time.time()\n",
        "\n",
        "print(f\"Time taken is {(end_time - start_time) * 1000} ms\")"
      ]
    },
    {
      "cell_type": "code",
      "source": [
        "cProfile.run('slic(S, img, img_h, img_w, clusters, tag, dis)', 'profile_results')"
      ],
      "metadata": {
        "id": "kCPsu3qTEkKa"
      },
      "execution_count": null,
      "outputs": []
    },
    {
      "cell_type": "code",
      "source": [
        "stats = pstats.Stats('profile_results')\n",
        "stats.sort_stats(pstats.SortKey.TIME).print_stats(15)"
      ],
      "metadata": {
        "colab": {
          "base_uri": "https://localhost:8080/"
        },
        "id": "mC6ffQF9EsDD",
        "outputId": "f70d0ac4-d2e3-4b7c-a248-b6319ff24640"
      },
      "execution_count": null,
      "outputs": [
        {
          "output_type": "stream",
          "name": "stdout",
          "text": [
            "Wed Feb  5 07:56:45 2025    profile_results\n",
            "\n",
            "         830874310 function calls (830874307 primitive calls) in 578.676 seconds\n",
            "\n",
            "   Ordered by: internal time\n",
            "   List reduced from 299 to 15 due to restriction <15>\n",
            "\n",
            "   ncalls  tottime  percall  cumtime  percall filename:lineno(function)\n",
            "       10  446.984   44.698  574.103   57.410 <ipython-input-6-8cd683e35477>:5(assign_pixels_to_cluster)\n",
            "580425832  100.727    0.000  100.727    0.000 {built-in method math.pow}\n",
            "248753928   25.630    0.000   25.630    0.000 {built-in method math.sqrt}\n",
            "       10    3.339    0.334    4.023    0.402 <ipython-input-7-2dcaf0d4e4fe>:2(update_cluster_mean)\n",
            "    43385    0.757    0.000    0.757    0.000 {method 'remove' of 'list' objects}\n",
            "  1601879    0.685    0.000    0.685    0.000 <ipython-input-11-cc6432300d62>:8(update)\n",
            "        1    0.430    0.430    0.527    0.527 <ipython-input-8-d4992ef63ce6>:2(avg_color_cluster)\n",
            "        1    0.029    0.029    0.038    0.038 /usr/local/lib/python3.11/dist-packages/skimage/color/colorconv.py:1192(_lab2xyz)\n",
            "        1    0.022    0.022    0.027    0.027 /usr/local/lib/python3.11/dist-packages/skimage/color/colorconv.py:757(xyz2rgb)\n",
            "        1    0.019    0.019    0.019    0.019 {method 'encode' of 'ImagingEncoder' objects}\n",
            "     4000    0.015    0.000    0.015    0.000 <ipython-input-4-d63190cbc075>:2(calc_gradient)\n",
            "        1    0.007    0.007    0.022    0.022 <ipython-input-5-d2f5ae0010cb>:2(reassign_cluster_center_acc_to_grad)\n",
            "    43490    0.005    0.000    0.005    0.000 {method 'append' of 'list' objects}\n",
            "        1    0.004    0.004    0.004    0.004 /usr/local/lib/python3.11/dist-packages/numpy/core/shape_base.py:372(stack)\n",
            "        1    0.004    0.004    0.004    0.004 {method 'copy' of 'numpy.ndarray' objects}\n",
            "\n",
            "\n"
          ]
        },
        {
          "output_type": "execute_result",
          "data": {
            "text/plain": [
              "<pstats.Stats at 0x79c51fd16b50>"
            ]
          },
          "metadata": {},
          "execution_count": 23
        }
      ]
    },
    {
      "cell_type": "code",
      "execution_count": null,
      "metadata": {
        "colab": {
          "base_uri": "https://localhost:8080/"
        },
        "id": "awxps-oZ_fGl",
        "outputId": "2f6c7b54-5382-4997-a84c-55cea290aa3a"
      },
      "outputs": [
        {
          "output_type": "stream",
          "name": "stdout",
          "text": [
            "H 19 : W 20, l 24.089975801150572, a 6.983582114595571, b -13.266387089229582\n",
            "H 16 : W 65, l 16.40778156165713, a 8.0141126927899, b -13.93056274157145\n",
            "H 16 : W 112, l 54.79510797636068, a 2.960649997742648, b -7.700683087250404\n",
            "H 25 : W 150, l 10.238819499505958, a 9.567046758129457, b -7.46135584808576\n",
            "H 22 : W 185, l 3.403919588186259, a 4.9411272689862535, b -2.265624862039256\n",
            "H 19 : W 219, l 12.324725907118658, a 9.593432142641815, b -0.5983476330680915\n",
            "H 18 : W 257, l 8.092761208054739, a 10.681077429955735, b -9.075347388015853\n",
            "H 19 : W 299, l 4.921299588520306, a 8.875064284386628, b -8.29229822245907\n",
            "H 14 : W 339, l 6.623024157664659, a 10.432628886679742, b -8.98276346783824\n",
            "H 19 : W 378, l 3.6456278365098953, a 5.468407041481507, b -4.6360393064611145\n",
            "H 60 : W 19, l 5.104836088688547, a 4.198537100423519, b -8.945196661033378\n",
            "H 54 : W 66, l 4.979812284699815, a 4.975935550010885, b -7.376025677730841\n",
            "H 56 : W 106, l 21.377268316316183, a 6.909486083425426, b -13.645276743480272\n",
            "H 59 : W 139, l 45.44099804328948, a 4.872432395860327, b -7.931197603912854\n",
            "H 65 : W 178, l 1.4916896630994323, a 3.9660249714804365, b -2.023301499647606\n",
            "H 59 : W 219, l 1.902519158790902, a 4.806863529359163, b -2.728373046642213\n",
            "H 59 : W 264, l 1.06539394544426, a 1.324511669226633, b -1.3020513173756354\n",
            "H 72 : W 305, l 20.28016064416333, a 17.841670650815324, b 0.5070922859529703\n",
            "H 54 : W 333, l 1.2037360062931697, a 1.248682726001857, b -2.094153369112578\n",
            "H 58 : W 379, l 0.9749914365794723, a 1.8248722228982746, b -2.298393048547992\n",
            "H 104 : W 17, l 4.544499239496844, a 3.0946410144517267, b -7.621130866275139\n",
            "H 94 : W 58, l 2.4755866468186944, a 1.9089530400729222, b -3.9486787034407778\n",
            "H 91 : W 99, l 1.0343729065636644, a 1.0998275972199656, b -2.168965929072697\n",
            "H 100 : W 137, l 16.109023960209342, a 3.425086180049164, b -7.742496909686358\n",
            "H 107 : W 179, l 45.18937616899789, a 5.504510352657698, b 7.482885991482247\n",
            "H 94 : W 219, l 6.650429004377383, a 12.709271199019781, b -3.4640639331420586\n",
            "H 99 : W 258, l 2.6857396546535632, a 4.705813988897703, b -2.31063903087233\n",
            "H 100 : W 295, l 2.3011996398548966, a 4.6518238026704575, b -3.290183648366435\n",
            "H 95 : W 345, l 0.814357256826792, a 2.142135478575419, b -1.8594978042496768\n",
            "H 99 : W 381, l 1.242927536982009, a 1.1756674895742751, b -1.5778605342580077\n",
            "H 148 : W 13, l 1.9436746233232434, a 4.09696142708163, b -1.7014488569463027\n",
            "H 132 : W 51, l 54.6992928808351, a -1.9059016119114536, b -8.021266152714169\n",
            "H 133 : W 97, l 21.505313129494404, a 8.423008025651962, b -6.206655817956208\n",
            "H 140 : W 137, l 85.03534348440157, a -0.3192285284908669, b 7.7367841317152575\n",
            "H 151 : W 174, l 63.11456737204021, a 24.91718309288471, b 40.8838201241442\n",
            "H 136 : W 217, l 91.99201070600753, a -1.8359797595765004, b 8.308694200168777\n",
            "H 144 : W 253, l 39.733939045833466, a 16.625463782613565, b 26.04922294398506\n",
            "H 142 : W 295, l 6.554442988207356, a 14.093738797935782, b 0.1835509850044048\n",
            "H 139 : W 335, l 4.716233748383278, a 8.423906378082686, b -2.7552508225977768\n",
            "H 140 : W 378, l 4.200791135861451, a 6.080307264300741, b -2.7180673973966227\n",
            "H 180 : W 25, l 13.998541624431951, a 14.825008206083956, b -8.56286725491302\n",
            "H 180 : W 62, l 10.80623815271516, a 11.084003417693152, b -7.498433518722197\n",
            "H 179 : W 98, l 15.508569723015448, a 9.154215280754801, b 8.122716254396039\n",
            "H 168 : W 126, l 38.75647518232369, a 12.040179251692567, b 7.139531837951141\n",
            "H 189 : W 204, l 70.28609281221925, a 31.235577853360454, b 65.71719713399861\n",
            "H 173 : W 213, l 50.60133043048904, a 33.61469078334933, b 58.06858370592136\n",
            "H 195 : W 270, l 56.85315511175864, a 21.84737967721184, b 26.166248759009868\n",
            "H 182 : W 293, l 70.4807824854482, a 7.098015641218536, b 13.0083957703226\n",
            "H 181 : W 345, l 4.467571940304506, a 8.017669137062047, b -2.7609840596870994\n",
            "H 180 : W 380, l 11.114051633877168, a 13.852913123199958, b -4.0794012415635015\n",
            "H 220 : W 23, l 9.55507122098988, a 10.619918228588377, b -7.824628717005261\n",
            "H 221 : W 63, l 7.951285347214927, a 7.976991531606692, b -3.5553418879464447\n",
            "H 219 : W 97, l 14.36684736178265, a 7.871164783804368, b -3.968148852811071\n",
            "H 208 : W 138, l 48.9000609453301, a 22.23385621248475, b 30.631577885227056\n",
            "H 210 : W 174, l 67.82638283870642, a 25.75853457346222, b 58.52060989285265\n",
            "H 223 : W 219, l 52.505908057672954, a 33.55531464596617, b 56.83406728359892\n",
            "H 216 : W 252, l 73.60993482632708, a 29.030111493089706, b 48.777927325846804\n",
            "H 225 : W 304, l 27.23548530858664, a 14.638723572297952, b 13.813183550963071\n",
            "H 209 : W 334, l 61.577529891465204, a 39.00277613096975, b 32.56721828714644\n",
            "H 222 : W 381, l 3.809181927763891, a 6.430009631350556, b 0.4946063945290402\n",
            "H 258 : W 18, l 2.3398874300114265, a 2.2366601391599765, b -1.9038327943544597\n",
            "H 250 : W 57, l 23.588272194537048, a 12.07687665022955, b -8.326756157874415\n",
            "H 259 : W 97, l 5.2911792825591135, a 9.517567784529572, b -2.8757804942087684\n",
            "H 254 : W 150, l 21.603657270235658, a 10.46840593944784, b 2.3481623597003676\n",
            "H 258 : W 187, l 36.94895630090155, a 11.821285016159312, b 28.775548397086826\n",
            "H 257 : W 216, l 32.964116940446466, a 23.334986947004033, b 37.412614939466536\n",
            "H 262 : W 265, l 57.12847438202431, a 21.357909289190513, b 39.628111196239466\n",
            "H 264 : W 299, l 74.10106452415039, a 15.203162652309476, b 21.485339582621734\n",
            "H 263 : W 346, l 80.72904944835304, a 9.344519527082484, b 15.701298023980193\n",
            "H 269 : W 373, l 24.85258477099243, a 11.996284711406041, b -3.0811150739433746\n",
            "H 298 : W 17, l 3.4406082268193146, a 4.135704320487668, b -3.135834728891307\n",
            "H 295 : W 57, l 4.838439162926775, a 7.781301766133578, b -6.630900434798143\n",
            "H 299 : W 94, l 1.7591338259276768, a 3.839647744615843, b -0.877693860241674\n",
            "H 299 : W 136, l 19.720157286365385, a 12.052562103605641, b -3.5471230371597717\n",
            "H 303 : W 178, l 39.279082859931144, a 14.973692073581013, b 22.737532114543633\n",
            "H 287 : W 222, l 22.18330271652391, a 11.795420841309772, b 22.272617886731222\n",
            "H 306 : W 273, l 51.35011552482332, a 8.736791613828176, b 34.58790020162002\n",
            "H 304 : W 308, l 6.721197054325618, a 6.2208887906948505, b 6.880708271919578\n",
            "H 309 : W 339, l 61.05100802941091, a 5.5094366707189035, b 5.15545599557532\n",
            "H 304 : W 382, l 5.428210210266791, a 10.226825155612504, b -2.8495368585903624\n",
            "H 339 : W 17, l 7.397641476754295, a 10.30690271633565, b -8.622589121572815\n",
            "H 339 : W 61, l 2.251881759590134, a 4.309853888931486, b -2.01516904752832\n",
            "H 341 : W 106, l 14.163902193503048, a 18.81916216790608, b -5.773734637585715\n",
            "H 338 : W 142, l 9.551019805328878, a 12.373106031957654, b -3.478764896662639\n",
            "H 343 : W 178, l 5.3505653338681185, a 11.184073337060104, b -2.9799616235970827\n",
            "H 333 : W 219, l 3.5189128877878098, a 7.077952670839147, b -2.3718858833991217\n",
            "H 337 : W 258, l 1.8605448237826643, a 3.8929888658975758, b -1.1929285013557833\n",
            "H 342 : W 303, l 4.216806258435138, a 7.50509700114535, b 0.6613593055877887\n",
            "H 343 : W 347, l 12.561844757790507, a 13.851955329355528, b -0.9852037137099534\n",
            "H 341 : W 383, l 6.746201159361757, a 9.763717233276958, b -3.91609042287992\n",
            "H 380 : W 20, l 1.4502605805065691, a 3.9612627002034024, b -1.6494207870306254\n",
            "H 379 : W 56, l 1.961842432405568, a 3.835699930175074, b -1.3929856946834351\n",
            "H 380 : W 96, l 5.586292405870992, a 9.948826213349665, b -4.126416077441508\n",
            "H 380 : W 142, l 6.616930336741387, a 11.914240703657791, b -7.4517456655263326\n",
            "H 380 : W 182, l 3.924537350357035, a 5.326154082790302, b -2.4513541553946028\n",
            "H 379 : W 219, l 2.7714912212523366, a 4.525979415164652, b -2.112501096996988\n",
            "H 379 : W 257, l 1.9971234207972586, a 2.7914415195450792, b -0.44409170953608745\n",
            "H 379 : W 295, l 1.343875031852047, a 1.8785379553409172, b -0.6522004949235383\n",
            "H 378 : W 334, l 4.205658632584623, a 5.538766332295261, b -2.5575212348430796\n",
            "H 380 : W 378, l 7.642848071354283, a 10.40964710470456, b -4.090277706119805\n"
          ]
        }
      ],
      "source": [
        "# superpixels\n",
        "for c in cluster:\n",
        "    print(\"H {} : W {}, l {}, a {}, b {}\".format(c.h,c.w,c.l,c.a,c.b))"
      ]
    },
    {
      "cell_type": "code",
      "execution_count": null,
      "metadata": {
        "id": "bDBdRHox_fGl"
      },
      "outputs": [],
      "source": []
    }
  ],
  "metadata": {
    "kernelspec": {
      "display_name": "Python 3",
      "language": "python",
      "name": "python3"
    },
    "language_info": {
      "codemirror_mode": {
        "name": "ipython",
        "version": 3
      },
      "file_extension": ".py",
      "mimetype": "text/x-python",
      "name": "python",
      "nbconvert_exporter": "python",
      "pygments_lexer": "ipython3",
      "version": "3.6.7"
    },
    "colab": {
      "provenance": []
    }
  },
  "nbformat": 4,
  "nbformat_minor": 0
}